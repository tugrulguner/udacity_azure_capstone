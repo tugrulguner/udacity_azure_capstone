{
  "cells": [
    {
      "cell_type": "markdown",
      "source": [
        "# Automated ML\n",
        "\n",
        "TODO: Import Dependencies. In the cell below, import all the dependencies that you will need to complete the project."
      ],
      "metadata": {}
    },
    {
      "cell_type": "code",
      "source": [
        "import logging\n",
        "import os\n",
        "import csv\n",
        "\n",
        "from matplotlib import pyplot as plt\n",
        "import numpy as np\n",
        "import pandas as pd\n",
        "from sklearn import datasets\n",
        "import pkg_resources\n",
        "\n",
        "from azureml.widgets import RunDetails\n",
        "import azureml.core\n",
        "from azureml.core.experiment import Experiment\n",
        "from azureml.core.workspace import Workspace\n",
        "from azureml.train.automl import AutoMLConfig\n",
        "from azureml.core.dataset import Dataset\n",
        "\n",
        "from azureml.pipeline.steps import AutoMLStep"
      ],
      "outputs": [],
      "execution_count": 1,
      "metadata": {
        "gather": {
          "logged": 1644696401502
        },
        "jupyter": {
          "outputs_hidden": false,
          "source_hidden": false
        },
        "nteract": {
          "transient": {
            "deleting": false
          }
        }
      }
    },
    {
      "cell_type": "markdown",
      "source": [
        "## Dataset\n",
        "\n",
        "### Overview\n",
        "TODO: In this markdown cell, give an overview of the dataset you are using. Also mention the task you will be performing.\n",
        "\n",
        "\n",
        "TODO: Get data. In the cell below, write code to access the data you will be using in this project. Remember that the dataset needs to be external."
      ],
      "metadata": {}
    },
    {
      "cell_type": "code",
      "source": [
        "ws = Workspace.from_config()\n",
        "\n",
        "# choose a name for experiment\n",
        "experiment_name = 'tguner-automl'\n",
        "\n",
        "experiment=Experiment(ws, experiment_name)"
      ],
      "outputs": [],
      "execution_count": 2,
      "metadata": {
        "gather": {
          "logged": 1644696450248
        },
        "jupyter": {
          "outputs_hidden": false,
          "source_hidden": false
        },
        "nteract": {
          "transient": {
            "deleting": false
          }
        }
      }
    },
    {
      "cell_type": "markdown",
      "source": [
        "### Readong the dataset\n",
        "\n",
        "This dataset is a Mobile Price Classification dataset taken from the Kaggle. It contains various features of the cell phones and tries to predict corresponding mobile phone price range. 0(low cost), 1(medium cost), 2(high cost) and 3(very high cost)\n",
        "[Kaggle Dataset Link]('https://www.kaggle.com/iabhishekofficial/mobile-price-classification')"
      ],
      "metadata": {}
    },
    {
      "cell_type": "code",
      "source": [
        "key = \"Mobile Phone Data\"\n",
        "\n",
        "dataset = ws.datasets[key] \n",
        "\n",
        "df = dataset.to_pandas_dataframe()\n",
        "df.describe()"
      ],
      "outputs": [
        {
          "output_type": "execute_result",
          "execution_count": 3,
          "data": {
            "text/plain": "       battery_power       blue  clock_speed     dual_sim           fc  \\\ncount    2000.000000  2000.0000  2000.000000  2000.000000  2000.000000   \nmean     1238.518500     0.4950     1.522250     0.509500     4.309500   \nstd       439.418206     0.5001     0.816004     0.500035     4.341444   \nmin       501.000000     0.0000     0.500000     0.000000     0.000000   \n25%       851.750000     0.0000     0.700000     0.000000     1.000000   \n50%      1226.000000     0.0000     1.500000     1.000000     3.000000   \n75%      1615.250000     1.0000     2.200000     1.000000     7.000000   \nmax      1998.000000     1.0000     3.000000     1.000000    19.000000   \n\n            four_g   int_memory        m_dep    mobile_wt      n_cores  ...  \\\ncount  2000.000000  2000.000000  2000.000000  2000.000000  2000.000000  ...   \nmean      0.521500    32.046500     0.501750   140.249000     4.520500  ...   \nstd       0.499662    18.145715     0.288416    35.399655     2.287837  ...   \nmin       0.000000     2.000000     0.100000    80.000000     1.000000  ...   \n25%       0.000000    16.000000     0.200000   109.000000     3.000000  ...   \n50%       1.000000    32.000000     0.500000   141.000000     4.000000  ...   \n75%       1.000000    48.000000     0.800000   170.000000     7.000000  ...   \nmax       1.000000    64.000000     1.000000   200.000000     8.000000  ...   \n\n         px_height     px_width          ram         sc_h         sc_w  \\\ncount  2000.000000  2000.000000  2000.000000  2000.000000  2000.000000   \nmean    645.108000  1251.515500  2124.213000    12.306500     5.767000   \nstd     443.780811   432.199447  1084.732044     4.213245     4.356398   \nmin       0.000000   500.000000   256.000000     5.000000     0.000000   \n25%     282.750000   874.750000  1207.500000     9.000000     2.000000   \n50%     564.000000  1247.000000  2146.500000    12.000000     5.000000   \n75%     947.250000  1633.000000  3064.500000    16.000000     9.000000   \nmax    1960.000000  1998.000000  3998.000000    19.000000    18.000000   \n\n         talk_time      three_g  touch_screen         wifi  price_range  \ncount  2000.000000  2000.000000   2000.000000  2000.000000  2000.000000  \nmean     11.011000     0.761500      0.503000     0.507000     1.500000  \nstd       5.463955     0.426273      0.500116     0.500076     1.118314  \nmin       2.000000     0.000000      0.000000     0.000000     0.000000  \n25%       6.000000     1.000000      0.000000     0.000000     0.750000  \n50%      11.000000     1.000000      1.000000     1.000000     1.500000  \n75%      16.000000     1.000000      1.000000     1.000000     2.250000  \nmax      20.000000     1.000000      1.000000     1.000000     3.000000  \n\n[8 rows x 21 columns]",
            "text/html": "<div>\n<style scoped>\n    .dataframe tbody tr th:only-of-type {\n        vertical-align: middle;\n    }\n\n    .dataframe tbody tr th {\n        vertical-align: top;\n    }\n\n    .dataframe thead th {\n        text-align: right;\n    }\n</style>\n<table border=\"1\" class=\"dataframe\">\n  <thead>\n    <tr style=\"text-align: right;\">\n      <th></th>\n      <th>battery_power</th>\n      <th>blue</th>\n      <th>clock_speed</th>\n      <th>dual_sim</th>\n      <th>fc</th>\n      <th>four_g</th>\n      <th>int_memory</th>\n      <th>m_dep</th>\n      <th>mobile_wt</th>\n      <th>n_cores</th>\n      <th>...</th>\n      <th>px_height</th>\n      <th>px_width</th>\n      <th>ram</th>\n      <th>sc_h</th>\n      <th>sc_w</th>\n      <th>talk_time</th>\n      <th>three_g</th>\n      <th>touch_screen</th>\n      <th>wifi</th>\n      <th>price_range</th>\n    </tr>\n  </thead>\n  <tbody>\n    <tr>\n      <th>count</th>\n      <td>2000.000000</td>\n      <td>2000.0000</td>\n      <td>2000.000000</td>\n      <td>2000.000000</td>\n      <td>2000.000000</td>\n      <td>2000.000000</td>\n      <td>2000.000000</td>\n      <td>2000.000000</td>\n      <td>2000.000000</td>\n      <td>2000.000000</td>\n      <td>...</td>\n      <td>2000.000000</td>\n      <td>2000.000000</td>\n      <td>2000.000000</td>\n      <td>2000.000000</td>\n      <td>2000.000000</td>\n      <td>2000.000000</td>\n      <td>2000.000000</td>\n      <td>2000.000000</td>\n      <td>2000.000000</td>\n      <td>2000.000000</td>\n    </tr>\n    <tr>\n      <th>mean</th>\n      <td>1238.518500</td>\n      <td>0.4950</td>\n      <td>1.522250</td>\n      <td>0.509500</td>\n      <td>4.309500</td>\n      <td>0.521500</td>\n      <td>32.046500</td>\n      <td>0.501750</td>\n      <td>140.249000</td>\n      <td>4.520500</td>\n      <td>...</td>\n      <td>645.108000</td>\n      <td>1251.515500</td>\n      <td>2124.213000</td>\n      <td>12.306500</td>\n      <td>5.767000</td>\n      <td>11.011000</td>\n      <td>0.761500</td>\n      <td>0.503000</td>\n      <td>0.507000</td>\n      <td>1.500000</td>\n    </tr>\n    <tr>\n      <th>std</th>\n      <td>439.418206</td>\n      <td>0.5001</td>\n      <td>0.816004</td>\n      <td>0.500035</td>\n      <td>4.341444</td>\n      <td>0.499662</td>\n      <td>18.145715</td>\n      <td>0.288416</td>\n      <td>35.399655</td>\n      <td>2.287837</td>\n      <td>...</td>\n      <td>443.780811</td>\n      <td>432.199447</td>\n      <td>1084.732044</td>\n      <td>4.213245</td>\n      <td>4.356398</td>\n      <td>5.463955</td>\n      <td>0.426273</td>\n      <td>0.500116</td>\n      <td>0.500076</td>\n      <td>1.118314</td>\n    </tr>\n    <tr>\n      <th>min</th>\n      <td>501.000000</td>\n      <td>0.0000</td>\n      <td>0.500000</td>\n      <td>0.000000</td>\n      <td>0.000000</td>\n      <td>0.000000</td>\n      <td>2.000000</td>\n      <td>0.100000</td>\n      <td>80.000000</td>\n      <td>1.000000</td>\n      <td>...</td>\n      <td>0.000000</td>\n      <td>500.000000</td>\n      <td>256.000000</td>\n      <td>5.000000</td>\n      <td>0.000000</td>\n      <td>2.000000</td>\n      <td>0.000000</td>\n      <td>0.000000</td>\n      <td>0.000000</td>\n      <td>0.000000</td>\n    </tr>\n    <tr>\n      <th>25%</th>\n      <td>851.750000</td>\n      <td>0.0000</td>\n      <td>0.700000</td>\n      <td>0.000000</td>\n      <td>1.000000</td>\n      <td>0.000000</td>\n      <td>16.000000</td>\n      <td>0.200000</td>\n      <td>109.000000</td>\n      <td>3.000000</td>\n      <td>...</td>\n      <td>282.750000</td>\n      <td>874.750000</td>\n      <td>1207.500000</td>\n      <td>9.000000</td>\n      <td>2.000000</td>\n      <td>6.000000</td>\n      <td>1.000000</td>\n      <td>0.000000</td>\n      <td>0.000000</td>\n      <td>0.750000</td>\n    </tr>\n    <tr>\n      <th>50%</th>\n      <td>1226.000000</td>\n      <td>0.0000</td>\n      <td>1.500000</td>\n      <td>1.000000</td>\n      <td>3.000000</td>\n      <td>1.000000</td>\n      <td>32.000000</td>\n      <td>0.500000</td>\n      <td>141.000000</td>\n      <td>4.000000</td>\n      <td>...</td>\n      <td>564.000000</td>\n      <td>1247.000000</td>\n      <td>2146.500000</td>\n      <td>12.000000</td>\n      <td>5.000000</td>\n      <td>11.000000</td>\n      <td>1.000000</td>\n      <td>1.000000</td>\n      <td>1.000000</td>\n      <td>1.500000</td>\n    </tr>\n    <tr>\n      <th>75%</th>\n      <td>1615.250000</td>\n      <td>1.0000</td>\n      <td>2.200000</td>\n      <td>1.000000</td>\n      <td>7.000000</td>\n      <td>1.000000</td>\n      <td>48.000000</td>\n      <td>0.800000</td>\n      <td>170.000000</td>\n      <td>7.000000</td>\n      <td>...</td>\n      <td>947.250000</td>\n      <td>1633.000000</td>\n      <td>3064.500000</td>\n      <td>16.000000</td>\n      <td>9.000000</td>\n      <td>16.000000</td>\n      <td>1.000000</td>\n      <td>1.000000</td>\n      <td>1.000000</td>\n      <td>2.250000</td>\n    </tr>\n    <tr>\n      <th>max</th>\n      <td>1998.000000</td>\n      <td>1.0000</td>\n      <td>3.000000</td>\n      <td>1.000000</td>\n      <td>19.000000</td>\n      <td>1.000000</td>\n      <td>64.000000</td>\n      <td>1.000000</td>\n      <td>200.000000</td>\n      <td>8.000000</td>\n      <td>...</td>\n      <td>1960.000000</td>\n      <td>1998.000000</td>\n      <td>3998.000000</td>\n      <td>19.000000</td>\n      <td>18.000000</td>\n      <td>20.000000</td>\n      <td>1.000000</td>\n      <td>1.000000</td>\n      <td>1.000000</td>\n      <td>3.000000</td>\n    </tr>\n  </tbody>\n</table>\n<p>8 rows × 21 columns</p>\n</div>"
          },
          "metadata": {}
        }
      ],
      "execution_count": 3,
      "metadata": {
        "gather": {
          "logged": 1644696457791
        }
      }
    },
    {
      "cell_type": "code",
      "source": [
        "from azureml.core.compute import AmlCompute\n",
        "from azureml.core.compute import ComputeTarget\n",
        "from azureml.core.compute_target import ComputeTargetException\n",
        "\n",
        "# NOTE: update the cluster name to match the existing cluster\n",
        "# Choose a name for your CPU cluster\n",
        "amlcompute_cluster_name = \"tugrul-comp\"\n",
        "\n",
        "# Verify that cluster does not exist already\n",
        "try:\n",
        "    compute_target = ComputeTarget(workspace=ws, name=amlcompute_cluster_name)\n",
        "    print('Found existing cluster, use it.')\n",
        "except ComputeTargetException:\n",
        "    compute_config = AmlCompute.provisioning_configuration(vm_size='STANDARD_DS12_V2',# for GPU, use \"STANDARD_NC6\"\n",
        "                                                           #vm_priority = 'lowpriority', # optional\n",
        "                                                           max_nodes=5)\n",
        "    compute_target = ComputeTarget.create(ws, amlcompute_cluster_name, compute_config)\n",
        "\n",
        "compute_target.wait_for_completion(show_output=True)\n",
        "# For a more detailed view of current AmlCompute status, use get_status()."
      ],
      "outputs": [
        {
          "output_type": "stream",
          "name": "stdout",
          "text": "InProgress....\nSucceededProvisioning operation finished, operation \"Succeeded\"\nSucceeded\nAmlCompute wait for completion finished\n\nMinimum number of nodes requested have been provisioned\n"
        }
      ],
      "execution_count": 4,
      "metadata": {
        "gather": {
          "logged": 1644696486757
        }
      }
    },
    {
      "cell_type": "markdown",
      "source": [
        "## AutoML Configuration\n",
        "\n",
        "TODO: Explain why you chose the automl settings and cofiguration you used below."
      ],
      "metadata": {}
    },
    {
      "cell_type": "code",
      "source": [
        "automl_settings = {\n",
        "    \"experiment_timeout_minutes\": 20,\n",
        "    \"max_concurrent_iterations\": 5,\n",
        "    \"primary_metric\" : 'accuracy'\n",
        "}\n",
        "automl_config = AutoMLConfig(compute_target=compute_target,\n",
        "                             task = \"classification\",\n",
        "                             training_data=dataset,\n",
        "                             label_column_name=\"price_range\",   \n",
        "                             enable_early_stopping= True,\n",
        "                             featurization= 'auto',\n",
        "                             debug_log = \"automl_errors.log\",\n",
        "                             **automl_settings\n",
        "                            )"
      ],
      "outputs": [],
      "execution_count": 5,
      "metadata": {
        "gather": {
          "logged": 1644696491199
        },
        "jupyter": {
          "outputs_hidden": false,
          "source_hidden": false
        },
        "nteract": {
          "transient": {
            "deleting": false
          }
        }
      }
    },
    {
      "cell_type": "code",
      "source": [
        "# TODO: Submit your experiment\n",
        "remote_run = experiment.submit(automl_config, show_output=True)"
      ],
      "outputs": [
        {
          "output_type": "stream",
          "name": "stdout",
          "text": "Submitting remote run.\nNo run_configuration provided, running on tugrul-comp with default configuration\nRunning on remote compute: tugrul-comp\n"
        },
        {
          "output_type": "display_data",
          "data": {
            "text/plain": "<IPython.core.display.HTML object>",
            "text/html": "<table style=\"width:100%\"><tr><th>Experiment</th><th>Id</th><th>Type</th><th>Status</th><th>Details Page</th><th>Docs Page</th></tr><tr><td>tguner-automl</td><td>AutoML_61dc40bb-1e30-4976-ad46-ce0b0fe8d0dd</td><td>automl</td><td>NotStarted</td><td><a href=\"https://ml.azure.com/runs/AutoML_61dc40bb-1e30-4976-ad46-ce0b0fe8d0dd?wsid=/subscriptions/a24a24d5-8d87-4c8a-99b6-91ed2d2df51f/resourcegroups/aml-quickstarts-184335/workspaces/quick-starts-ws-184335&amp;tid=660b3398-b80e-49d2-bc5b-ac1dc93b5254\" target=\"_blank\" rel=\"noopener\">Link to Azure Machine Learning studio</a></td><td><a href=\"https://docs.microsoft.com/en-us/python/api/overview/azure/ml/intro?view=azure-ml-py\" target=\"_blank\" rel=\"noopener\">Link to Documentation</a></td></tr></table>"
          },
          "metadata": {}
        },
        {
          "output_type": "stream",
          "name": "stdout",
          "text": "\nCurrent status: FeaturesGeneration. Generating features for the dataset.\nCurrent status: ModelSelection. Beginning model selection.\n\n********************************************************************************************\nDATA GUARDRAILS: \n\nTYPE:         Cross validation\nSTATUS:       DONE\nDESCRIPTION:  Each iteration of the trained model was validated through cross-validation.\n              \nDETAILS:      \n+------------------------------+\n|Number of folds               |\n+==============================+\n|3                             |\n+------------------------------+\n\n********************************************************************************************\n\nTYPE:         Class balancing detection\nSTATUS:       PASSED\nDESCRIPTION:  Your inputs were analyzed, and all classes are balanced in your training data.\n              Learn more about imbalanced data: https://aka.ms/AutomatedMLImbalancedData\n\n********************************************************************************************\n\nTYPE:         Missing feature values imputation\nSTATUS:       PASSED\nDESCRIPTION:  No feature missing values were detected in the training data.\n              Learn more about missing value imputation: https://aka.ms/AutomatedMLFeaturization\n\n********************************************************************************************\n\nTYPE:         High cardinality feature detection\nSTATUS:       PASSED\nDESCRIPTION:  Your inputs were analyzed, and no high cardinality features were detected.\n              Learn more about high cardinality feature handling: https://aka.ms/AutomatedMLFeaturization\n\n********************************************************************************************\n\n********************************************************************************************\nITER: The iteration being evaluated.\nPIPELINE: A summary description of the pipeline being evaluated.\nDURATION: Time taken for the current iteration.\nMETRIC: The result of computing score on the fitted pipeline.\nBEST: The best observed score thus far.\n********************************************************************************************\n\n ITER   PIPELINE                                       DURATION            METRIC      BEST\n    0   MaxAbsScaler LightGBM                          0:00:10             0.8985    0.8985\n    1   MaxAbsScaler XGBoostClassifier                 0:00:10             0.8990    0.8990\n    2   MaxAbsScaler ExtremeRandomTrees                0:00:09             0.7310    0.8990\n    3   SparseNormalizer XGBoostClassifier             0:00:09             0.8880    0.8990\n    4   MaxAbsScaler LightGBM                          0:00:08             0.8275    0.8990\n    5   MaxAbsScaler LightGBM                          0:00:08             0.8340    0.8990\n    6   StandardScalerWrapper XGBoostClassifier        0:00:08             0.8475    0.8990\n    7   MaxAbsScaler LogisticRegression                0:00:08             0.8155    0.8990\n    8   StandardScalerWrapper ExtremeRandomTrees       0:00:08             0.6015    0.8990\n    9   StandardScalerWrapper XGBoostClassifier        0:00:08             0.8205    0.8990\n   10   SparseNormalizer LightGBM                      0:00:09             0.8265    0.8990\n   11   StandardScalerWrapper XGBoostClassifier        0:00:08             0.8075    0.8990\n   12   MaxAbsScaler LogisticRegression                0:00:08             0.8795    0.8990\n   16   StandardScalerWrapper LogisticRegression       0:00:14             0.6775    0.8990\n   13   MaxAbsScaler SGD                               0:00:10             0.6925    0.8990\n   14   StandardScalerWrapper XGBoostClassifier        0:00:08             0.8470    0.8990\n   17   StandardScalerWrapper RandomForest             0:00:09             0.7900    0.8990\n   18   StandardScalerWrapper XGBoostClassifier        0:00:09             0.8730    0.8990\n   15   SparseNormalizer RandomForest                  0:00:09             0.8720    0.8990\n   19   TruncatedSVDWrapper RandomForest               0:00:15             0.9050    0.9050\n   20   TruncatedSVDWrapper RandomForest               0:00:04             0.9315    0.9315\n   21   StandardScalerWrapper XGBoostClassifier        0:00:04             0.8440    0.9315\n   23   StandardScalerWrapper LogisticRegression       0:00:04             0.8755    0.9315\n   22   SparseNormalizer XGBoostClassifier             0:00:04             0.8570    0.9315\n   25   SparseNormalizer XGBoostClassifier             0:00:03             0.8720    0.9315\n   24   StandardScalerWrapper RandomForest             0:00:04             0.5745    0.9315\n   26   SparseNormalizer XGBoostClassifier             0:00:04             0.8955    0.9315\n   27   SparseNormalizer XGBoostClassifier             0:00:04             0.8905    0.9315\n   28   SparseNormalizer XGBoostClassifier             0:00:04             0.9015    0.9315\n   29   TruncatedSVDWrapper XGBoostClassifier          0:00:04             0.9505    0.9505\n   30   MaxAbsScaler RandomForest                      0:00:04             0.2500    0.9505\n   31   StandardScalerWrapper XGBoostClassifier        0:00:04             0.8655    0.9505\n   32   StandardScalerWrapper XGBoostClassifier        0:00:04             0.8310    0.9505\n   33   SparseNormalizer XGBoostClassifier             0:00:03             0.8725    0.9505\n   36   MaxAbsScaler ExtremeRandomTrees                0:00:04             0.8035    0.9505\n   34   StandardScalerWrapper XGBoostClassifier        0:00:04             0.8515    0.9505\n   35   MaxAbsScaler LightGBM                          0:00:04             0.7505    0.9505\n   37   SparseNormalizer LightGBM                      0:00:04             0.7560    0.9505\n   38   SparseNormalizer LightGBM                      0:00:03             0.9055    0.9505\n   39   SparseNormalizer XGBoostClassifier             0:00:04             0.7645    0.9505\n   40   StandardScalerWrapper LightGBM                 0:00:04             0.5950    0.9505\n   41   SparseNormalizer LightGBM                      0:00:03             0.8690    0.9505\n   42   MaxAbsScaler RandomForest                      0:00:04             0.7005    0.9505\n   43   SparseNormalizer XGBoostClassifier             0:00:04             0.8780    0.9505\n   44   SparseNormalizer XGBoostClassifier             0:00:04             0.9075    0.9505\n   45   SparseNormalizer XGBoostClassifier             0:00:04             0.9085    0.9505\n   46   TruncatedSVDWrapper LogisticRegression         0:00:04             0.7920    0.9505\n   47   StandardScalerWrapper XGBoostClassifier        0:00:04             0.7795    0.9505\n   48   StandardScalerWrapper XGBoostClassifier        0:00:01             0.8330    0.9505\n   50    StackEnsemble                                 0:00:03             0.9465    0.9505\n   49    VotingEnsemble                                0:00:03             0.9490    0.9505\n"
        }
      ],
      "execution_count": 6,
      "metadata": {
        "gather": {
          "logged": 1644698029553
        },
        "jupyter": {
          "outputs_hidden": false,
          "source_hidden": false
        },
        "nteract": {
          "transient": {
            "deleting": false
          }
        }
      }
    },
    {
      "cell_type": "markdown",
      "source": [
        "## Run Details\n",
        "\n",
        "OPTIONAL: Write about the different models trained and their performance. Why do you think some models did better than others?\n",
        "\n",
        "TODO: In the cell below, use the `RunDetails` widget to show the different experiments."
      ],
      "metadata": {}
    },
    {
      "cell_type": "code",
      "source": [
        "RunDetails(remote_run).show()"
      ],
      "outputs": [
        {
          "output_type": "display_data",
          "data": {
            "text/plain": "_AutoMLWidget(widget_settings={'childWidgetDisplay': 'popup', 'send_telemetry': False, 'log_level': 'INFO', 's…",
            "application/vnd.jupyter.widget-view+json": {
              "version_major": 2,
              "version_minor": 0,
              "model_id": "c82ad9710ee94f97bab8bd514e83171f"
            }
          },
          "metadata": {}
        },
        {
          "output_type": "display_data",
          "data": {
            "application/aml.mini.widget.v1": "{\"status\": \"Completed\", \"workbench_run_details_uri\": \"https://ml.azure.com/runs/AutoML_61dc40bb-1e30-4976-ad46-ce0b0fe8d0dd?wsid=/subscriptions/a24a24d5-8d87-4c8a-99b6-91ed2d2df51f/resourcegroups/aml-quickstarts-184335/workspaces/quick-starts-ws-184335&tid=660b3398-b80e-49d2-bc5b-ac1dc93b5254\", \"run_id\": \"AutoML_61dc40bb-1e30-4976-ad46-ce0b0fe8d0dd\", \"run_properties\": {\"run_id\": \"AutoML_61dc40bb-1e30-4976-ad46-ce0b0fe8d0dd\", \"created_utc\": \"2022-02-12T20:08:17.942684Z\", \"properties\": {\"num_iterations\": \"1000\", \"training_type\": \"TrainFull\", \"acquisition_function\": \"EI\", \"primary_metric\": \"accuracy\", \"train_split\": \"0\", \"acquisition_parameter\": \"0\", \"num_cross_validation\": null, \"target\": \"tugrul-comp\", \"AMLSettingsJsonString\": \"{\\\"path\\\":null,\\\"name\\\":\\\"tguner-automl\\\",\\\"subscription_id\\\":\\\"a24a24d5-8d87-4c8a-99b6-91ed2d2df51f\\\",\\\"resource_group\\\":\\\"aml-quickstarts-184335\\\",\\\"workspace_name\\\":\\\"quick-starts-ws-184335\\\",\\\"region\\\":\\\"southcentralus\\\",\\\"compute_target\\\":\\\"tugrul-comp\\\",\\\"spark_service\\\":null,\\\"azure_service\\\":\\\"remote\\\",\\\"many_models\\\":false,\\\"pipeline_fetch_max_batch_size\\\":1,\\\"enable_batch_run\\\":true,\\\"enable_run_restructure\\\":false,\\\"start_auxiliary_runs_before_parent_complete\\\":false,\\\"enable_code_generation\\\":false,\\\"iterations\\\":1000,\\\"primary_metric\\\":\\\"accuracy\\\",\\\"task_type\\\":\\\"classification\\\",\\\"positive_label\\\":null,\\\"data_script\\\":null,\\\"test_size\\\":0.0,\\\"test_include_predictions_only\\\":false,\\\"validation_size\\\":0.0,\\\"n_cross_validations\\\":null,\\\"y_min\\\":null,\\\"y_max\\\":null,\\\"num_classes\\\":null,\\\"featurization\\\":\\\"auto\\\",\\\"_ignore_package_version_incompatibilities\\\":false,\\\"is_timeseries\\\":false,\\\"max_cores_per_iteration\\\":1,\\\"max_concurrent_iterations\\\":5,\\\"iteration_timeout_minutes\\\":null,\\\"mem_in_mb\\\":null,\\\"enforce_time_on_windows\\\":false,\\\"experiment_timeout_minutes\\\":20,\\\"experiment_exit_score\\\":null,\\\"whitelist_models\\\":null,\\\"blacklist_algos\\\":[\\\"TensorFlowLinearClassifier\\\",\\\"TensorFlowDNN\\\"],\\\"supported_models\\\":[\\\"MultinomialNaiveBayes\\\",\\\"LogisticRegression\\\",\\\"DecisionTree\\\",\\\"LightGBM\\\",\\\"GradientBoosting\\\",\\\"SVM\\\",\\\"ExtremeRandomTrees\\\",\\\"AveragedPerceptronClassifier\\\",\\\"TensorFlowLinearClassifier\\\",\\\"RandomForest\\\",\\\"LinearSVM\\\",\\\"SGD\\\",\\\"KNN\\\",\\\"XGBoostClassifier\\\",\\\"BernoulliNaiveBayes\\\",\\\"TensorFlowDNN\\\"],\\\"private_models\\\":[\\\"TabnetClassifier\\\"],\\\"auto_blacklist\\\":true,\\\"blacklist_samples_reached\\\":false,\\\"exclude_nan_labels\\\":true,\\\"verbosity\\\":20,\\\"_debug_log\\\":\\\"azureml_automl.log\\\",\\\"show_warnings\\\":false,\\\"model_explainability\\\":true,\\\"service_url\\\":null,\\\"sdk_url\\\":null,\\\"sdk_packages\\\":null,\\\"enable_onnx_compatible_models\\\":false,\\\"enable_split_onnx_featurizer_estimator_models\\\":false,\\\"vm_type\\\":\\\"STANDARD_DS12_V2\\\",\\\"telemetry_verbosity\\\":20,\\\"send_telemetry\\\":true,\\\"enable_dnn\\\":false,\\\"scenario\\\":\\\"SDK-1.13.0\\\",\\\"environment_label\\\":null,\\\"save_mlflow\\\":false,\\\"enable_categorical_indicators\\\":false,\\\"force_text_dnn\\\":false,\\\"enable_feature_sweeping\\\":true,\\\"enable_early_stopping\\\":true,\\\"early_stopping_n_iters\\\":10,\\\"arguments\\\":null,\\\"dataset_id\\\":null,\\\"hyperdrive_config\\\":null,\\\"validation_dataset_id\\\":null,\\\"run_source\\\":null,\\\"metrics\\\":null,\\\"enable_metric_confidence\\\":false,\\\"enable_ensembling\\\":true,\\\"enable_stack_ensembling\\\":true,\\\"ensemble_iterations\\\":15,\\\"enable_tf\\\":false,\\\"enable_subsampling\\\":null,\\\"subsample_seed\\\":null,\\\"enable_nimbusml\\\":false,\\\"enable_streaming\\\":false,\\\"force_streaming\\\":false,\\\"track_child_runs\\\":true,\\\"allowed_private_models\\\":[],\\\"label_column_name\\\":\\\"price_range\\\",\\\"weight_column_name\\\":null,\\\"cv_split_column_names\\\":null,\\\"enable_local_managed\\\":false,\\\"_local_managed_run_id\\\":null,\\\"cost_mode\\\":1,\\\"lag_length\\\":0,\\\"metric_operation\\\":\\\"maximize\\\",\\\"preprocess\\\":true}\", \"DataPrepJsonString\": \"{\\\\\\\"training_data\\\\\\\": {\\\\\\\"datasetId\\\\\\\": \\\\\\\"54f9cc4f-8060-46fc-bb64-3b0463aa1c8b\\\\\\\"}, \\\\\\\"datasets\\\\\\\": 0}\", \"EnableSubsampling\": null, \"runTemplate\": \"AutoML\", \"azureml.runsource\": \"automl\", \"display_task_type\": \"classification\", \"dependencies_versions\": \"{\\\"azureml-widgets\\\": \\\"1.37.0\\\", \\\"azureml-train\\\": \\\"1.37.0\\\", \\\"azureml-train-restclients-hyperdrive\\\": \\\"1.37.0\\\", \\\"azureml-train-core\\\": \\\"1.37.0\\\", \\\"azureml-train-automl\\\": \\\"1.37.0\\\", \\\"azureml-train-automl-runtime\\\": \\\"1.37.0\\\", \\\"azureml-train-automl-client\\\": \\\"1.37.0\\\", \\\"azureml-tensorboard\\\": \\\"1.37.0\\\", \\\"azureml-telemetry\\\": \\\"1.37.0\\\", \\\"azureml-sdk\\\": \\\"1.37.0\\\", \\\"azureml-samples\\\": \\\"0+unknown\\\", \\\"azureml-responsibleai\\\": \\\"1.37.0\\\", \\\"azureml-pipeline\\\": \\\"1.37.0\\\", \\\"azureml-pipeline-steps\\\": \\\"1.37.0\\\", \\\"azureml-pipeline-core\\\": \\\"1.37.0\\\", \\\"azureml-opendatasets\\\": \\\"1.37.0\\\", \\\"azureml-mlflow\\\": \\\"1.37.0\\\", \\\"azureml-interpret\\\": \\\"1.37.0\\\", \\\"azureml-inference-server-http\\\": \\\"0.4.2\\\", \\\"azureml-explain-model\\\": \\\"1.37.0\\\", \\\"azureml-defaults\\\": \\\"1.37.0\\\", \\\"azureml-dataset-runtime\\\": \\\"1.37.0\\\", \\\"azureml-dataprep\\\": \\\"2.25.0\\\", \\\"azureml-dataprep-rslex\\\": \\\"2.1.0\\\", \\\"azureml-dataprep-native\\\": \\\"38.0.0\\\", \\\"azureml-datadrift\\\": \\\"1.37.0\\\", \\\"azureml-core\\\": \\\"1.37.0\\\", \\\"azureml-contrib-services\\\": \\\"1.37.0\\\", \\\"azureml-contrib-server\\\": \\\"1.37.0\\\", \\\"azureml-contrib-reinforcementlearning\\\": \\\"1.37.0\\\", \\\"azureml-contrib-pipeline-steps\\\": \\\"1.37.0\\\", \\\"azureml-contrib-notebook\\\": \\\"1.37.0\\\", \\\"azureml-contrib-fairness\\\": \\\"1.37.0\\\", \\\"azureml-contrib-dataset\\\": \\\"1.37.0\\\", \\\"azureml-contrib-automl-pipeline-steps\\\": \\\"1.37.0\\\", \\\"azureml-cli-common\\\": \\\"1.37.0\\\", \\\"azureml-automl-runtime\\\": \\\"1.37.0\\\", \\\"azureml-automl-dnn-nlp\\\": \\\"1.37.0\\\", \\\"azureml-automl-core\\\": \\\"1.37.0\\\", \\\"azureml-accel-models\\\": \\\"1.37.0\\\"}\", \"_aml_system_scenario_identification\": \"Remote.Parent\", \"ClientType\": \"SDK\", \"environment_cpu_name\": \"AzureML-AutoML\", \"environment_cpu_label\": \"py36\", \"environment_gpu_name\": \"AzureML-AutoML-GPU\", \"environment_gpu_label\": \"py36\", \"root_attribution\": \"automl\", \"attribution\": \"AutoML\", \"Orchestrator\": \"AutoML\", \"CancelUri\": \"https://southcentralus.api.azureml.ms/jasmine/v1.0/subscriptions/a24a24d5-8d87-4c8a-99b6-91ed2d2df51f/resourceGroups/aml-quickstarts-184335/providers/Microsoft.MachineLearningServices/workspaces/quick-starts-ws-184335/experimentids/cc630eaa-1c02-4d6c-8abc-653c2e01dab2/cancel/AutoML_61dc40bb-1e30-4976-ad46-ce0b0fe8d0dd\", \"ClientSdkVersion\": \"1.38.0\", \"snapshotId\": \"00000000-0000-0000-0000-000000000000\", \"SetupRunId\": \"AutoML_61dc40bb-1e30-4976-ad46-ce0b0fe8d0dd_setup\", \"SetupRunContainerId\": \"dcid.AutoML_61dc40bb-1e30-4976-ad46-ce0b0fe8d0dd_setup\", \"FeaturizationRunJsonPath\": \"featurizer_container.json\", \"FeaturizationRunId\": \"AutoML_61dc40bb-1e30-4976-ad46-ce0b0fe8d0dd_featurize\", \"ProblemInfoJsonString\": \"{\\\"dataset_num_categorical\\\": 0, \\\"is_sparse\\\": true, \\\"subsampling\\\": false, \\\"has_extra_col\\\": true, \\\"dataset_classes\\\": 4, \\\"dataset_features\\\": 116, \\\"dataset_samples\\\": 2000, \\\"single_frequency_class_detected\\\": false}\", \"ModelExplainRunId\": \"AutoML_61dc40bb-1e30-4976-ad46-ce0b0fe8d0dd_ModelExplain\"}, \"tags\": {\"model_explain_run\": \"best_run\", \"_aml_system_azureml.automlComponent\": \"AutoML\", \"pipeline_id\": \"\", \"score\": \"\", \"predicted_cost\": \"\", \"fit_time\": \"\", \"training_percent\": \"\", \"iteration\": \"\", \"run_preprocessor\": \"\", \"run_algorithm\": \"\", \"dynamic_whitelisting_iterations\": \"<24>;<30>;<34>;<39>;<44>;\", \"_aml_system_azureml.automl_early_exit_message\": \"No scores improved over last 20 iterations, so experiment stopped early. This early stopping behavior can be disabled by setting enable_early_stopping = False in AutoMLConfig for notebook/python SDK runs.\", \"automl_best_child_run_id\": \"AutoML_61dc40bb-1e30-4976-ad46-ce0b0fe8d0dd_29\", \"model_explain_best_run_child_id\": \"AutoML_61dc40bb-1e30-4976-ad46-ce0b0fe8d0dd_29\"}, \"end_time_utc\": \"2022-02-12T20:33:31.969007Z\", \"status\": \"Completed\", \"log_files\": {}, \"log_groups\": [], \"run_duration\": \"0:25:14\", \"run_number\": \"1644696497\", \"run_queued_details\": {\"status\": \"Completed\", \"details\": null}}, \"child_runs\": [{\"run_id\": \"AutoML_61dc40bb-1e30-4976-ad46-ce0b0fe8d0dd_setup\", \"run_number\": 1644696511, \"metric\": null, \"status\": \"Completed\", \"run_type\": \"azureml.scriptrun\", \"training_percent\": null, \"start_time\": \"2022-02-12T20:16:26.270741Z\", \"end_time\": \"2022-02-12T20:16:29.762997Z\", \"created_time\": \"2022-02-12T20:08:31.370589Z\", \"created_time_dt\": \"2022-02-12T20:08:31.370589Z\", \"duration\": \"0:07:58\", \"iteration\": null, \"goal\": null, \"run_name\": \"Completed\", \"run_properties\": null}, {\"run_id\": \"AutoML_61dc40bb-1e30-4976-ad46-ce0b0fe8d0dd_featurize\", \"run_number\": 1644696990, \"metric\": null, \"status\": \"Completed\", \"run_type\": \"automl.featurization\", \"training_percent\": null, \"start_time\": \"2022-02-12T20:16:31.289832Z\", \"end_time\": \"2022-02-12T20:17:03.09938Z\", \"created_time\": \"2022-02-12T20:16:30.83023Z\", \"created_time_dt\": \"2022-02-12T20:16:30.83023Z\", \"duration\": \"0:00:32\", \"iteration\": null, \"goal\": null, \"run_name\": \"Completed\", \"run_properties\": null}, {\"run_id\": \"AutoML_61dc40bb-1e30-4976-ad46-ce0b0fe8d0dd_0\", \"run_number\": 1644697024, \"metric\": null, \"status\": \"Completed\", \"run_type\": null, \"training_percent\": \"100\", \"start_time\": \"2022-02-12T20:17:17.082203Z\", \"end_time\": \"2022-02-12T20:17:26.877608Z\", \"created_time\": \"2022-02-12T20:17:04.654233Z\", \"created_time_dt\": \"2022-02-12T20:17:04.654233Z\", \"duration\": \"0:00:22\", \"iteration\": \"0\", \"goal\": \"accuracy_max\", \"run_name\": \"MaxAbsScaler, LightGBM\", \"run_properties\": \"copy=True\", \"primary_metric\": 0.8984997, \"best_metric\": 0.8984997}, {\"run_id\": \"AutoML_61dc40bb-1e30-4976-ad46-ce0b0fe8d0dd_1\", \"run_number\": 1644697025, \"metric\": null, \"status\": \"Completed\", \"run_type\": null, \"training_percent\": \"100\", \"start_time\": \"2022-02-12T20:17:27.109841Z\", \"end_time\": \"2022-02-12T20:17:36.861199Z\", \"created_time\": \"2022-02-12T20:17:05.318644Z\", \"created_time_dt\": \"2022-02-12T20:17:05.318644Z\", \"duration\": \"0:00:31\", \"iteration\": \"1\", \"goal\": \"accuracy_max\", \"run_name\": \"MaxAbsScaler, XGBoostClassifier\", \"run_properties\": \"copy=True\", \"primary_metric\": 0.8989972, \"best_metric\": 0.8989972}, {\"run_id\": \"AutoML_61dc40bb-1e30-4976-ad46-ce0b0fe8d0dd_3\", \"run_number\": 1644697026, \"metric\": null, \"status\": \"Completed\", \"run_type\": null, \"training_percent\": \"100\", \"start_time\": \"2022-02-12T20:17:46.006573Z\", \"end_time\": \"2022-02-12T20:17:54.741625Z\", \"created_time\": \"2022-02-12T20:17:06.388321Z\", \"created_time_dt\": \"2022-02-12T20:17:06.388321Z\", \"duration\": \"0:00:48\", \"iteration\": \"3\", \"goal\": \"accuracy_max\", \"run_name\": \"SparseNormalizer, XGBoostClassifier\", \"run_properties\": \"copy=True, norm='l2'\", \"primary_metric\": 0.88800044, \"best_metric\": 0.8989972}, {\"run_id\": \"AutoML_61dc40bb-1e30-4976-ad46-ce0b0fe8d0dd_5\", \"run_number\": 1644697027, \"metric\": null, \"status\": \"Completed\", \"run_type\": null, \"training_percent\": \"100\", \"start_time\": \"2022-02-12T20:18:22.706849Z\", \"end_time\": \"2022-02-12T20:18:30.613594Z\", \"created_time\": \"2022-02-12T20:17:07.224539Z\", \"created_time_dt\": \"2022-02-12T20:17:07.224539Z\", \"duration\": \"0:01:23\", \"iteration\": \"5\", \"goal\": \"accuracy_max\", \"run_name\": \"MaxAbsScaler, LightGBM\", \"run_properties\": \"copy=True\", \"primary_metric\": 0.83399892, \"best_metric\": 0.8989972}, {\"run_id\": \"AutoML_61dc40bb-1e30-4976-ad46-ce0b0fe8d0dd_7\", \"run_number\": 1644697028, \"metric\": null, \"status\": \"Completed\", \"run_type\": null, \"training_percent\": \"100\", \"start_time\": \"2022-02-12T20:18:39.100998Z\", \"end_time\": \"2022-02-12T20:18:47.498163Z\", \"created_time\": \"2022-02-12T20:17:08.199387Z\", \"created_time_dt\": \"2022-02-12T20:17:08.199387Z\", \"duration\": \"0:01:39\", \"iteration\": \"7\", \"goal\": \"accuracy_max\", \"run_name\": \"MaxAbsScaler, LogisticRegression\", \"run_properties\": \"copy=True\", \"primary_metric\": 0.81549841, \"best_metric\": 0.8989972}, {\"run_id\": \"AutoML_61dc40bb-1e30-4976-ad46-ce0b0fe8d0dd_9\", \"run_number\": 1644697029, \"metric\": null, \"status\": \"Completed\", \"run_type\": null, \"training_percent\": \"100\", \"start_time\": \"2022-02-12T20:19:14.135Z\", \"end_time\": \"2022-02-12T20:19:21.995341Z\", \"created_time\": \"2022-02-12T20:17:09.192277Z\", \"created_time_dt\": \"2022-02-12T20:17:09.192277Z\", \"duration\": \"0:02:12\", \"iteration\": \"9\", \"goal\": \"accuracy_max\", \"run_name\": \"StandardScalerWrapper, XGBoostClassifier\", \"run_properties\": \"\\n    copy=True,\\n    with_mean=False,\\n    with_std=False\\n\", \"primary_metric\": 0.82049741, \"best_metric\": 0.8989972}, {\"run_id\": \"AutoML_61dc40bb-1e30-4976-ad46-ce0b0fe8d0dd_worker_2\", \"run_number\": 1644697030, \"metric\": null, \"status\": \"Completed\", \"run_type\": \"azureml.scriptrun\", \"training_percent\": null, \"start_time\": \"2022-02-12T20:19:13.971127Z\", \"end_time\": \"2022-02-12T20:19:44.49639Z\", \"created_time\": \"2022-02-12T20:17:10.707011Z\", \"created_time_dt\": \"2022-02-12T20:17:10.707011Z\", \"duration\": \"0:02:33\", \"iteration\": null, \"goal\": null, \"run_name\": \"Completed\", \"run_properties\": null}, {\"run_id\": \"AutoML_61dc40bb-1e30-4976-ad46-ce0b0fe8d0dd_13\", \"run_number\": 1644697031, \"metric\": null, \"status\": \"Completed\", \"run_type\": null, \"training_percent\": \"100\", \"start_time\": \"2022-02-12T20:20:24.945242Z\", \"end_time\": \"2022-02-12T20:20:35.169883Z\", \"created_time\": \"2022-02-12T20:17:11.335999Z\", \"created_time_dt\": \"2022-02-12T20:17:11.335999Z\", \"duration\": \"0:03:23\", \"iteration\": \"13\", \"goal\": \"accuracy_max\", \"run_name\": \"MaxAbsScaler, SGD\", \"run_properties\": \"copy=True\", \"primary_metric\": 0.69249985, \"best_metric\": 0.8989972}, {\"run_id\": \"AutoML_61dc40bb-1e30-4976-ad46-ce0b0fe8d0dd_15\", \"run_number\": 1644697032, \"metric\": null, \"status\": \"Completed\", \"run_type\": null, \"training_percent\": \"100\", \"start_time\": \"2022-02-12T20:20:43.979866Z\", \"end_time\": \"2022-02-12T20:20:53.183255Z\", \"created_time\": \"2022-02-12T20:17:12.468771Z\", \"created_time_dt\": \"2022-02-12T20:17:12.468771Z\", \"duration\": \"0:03:40\", \"iteration\": \"15\", \"goal\": \"accuracy_max\", \"run_name\": \"SparseNormalizer, RandomForest\", \"run_properties\": \"copy=True, norm='l2'\", \"primary_metric\": 0.87199418, \"best_metric\": 0.8989972}, {\"run_id\": \"AutoML_61dc40bb-1e30-4976-ad46-ce0b0fe8d0dd_16\", \"run_number\": 1644697033, \"metric\": null, \"status\": \"Completed\", \"run_type\": null, \"training_percent\": \"100\", \"start_time\": \"2022-02-12T20:20:19.074542Z\", \"end_time\": \"2022-02-12T20:20:32.890855Z\", \"created_time\": \"2022-02-12T20:17:13.728234Z\", \"created_time_dt\": \"2022-02-12T20:17:13.728234Z\", \"duration\": \"0:03:19\", \"iteration\": \"16\", \"goal\": \"accuracy_max\", \"run_name\": \"StandardScalerWrapper, LogisticRegression\", \"run_properties\": \"\\n    copy=True,\\n    with_mean=False,\\n    with_std=False\\n\", \"primary_metric\": 0.67749233, \"best_metric\": 0.8989972}, {\"run_id\": \"AutoML_61dc40bb-1e30-4976-ad46-ce0b0fe8d0dd_17\", \"run_number\": 1644697034, \"metric\": null, \"status\": \"Completed\", \"run_type\": null, \"training_percent\": \"100\", \"start_time\": \"2022-02-12T20:20:33.078967Z\", \"end_time\": \"2022-02-12T20:20:41.791187Z\", \"created_time\": \"2022-02-12T20:17:14.129173Z\", \"created_time_dt\": \"2022-02-12T20:17:14.129173Z\", \"duration\": \"0:03:27\", \"iteration\": \"17\", \"goal\": \"accuracy_max\", \"run_name\": \"StandardScalerWrapper, RandomForest\", \"run_properties\": \"\\n    copy=True,\\n    with_mean=False,\\n    with_std=False\\n\", \"primary_metric\": 0.7900044, \"best_metric\": 0.8989972}, {\"run_id\": \"AutoML_61dc40bb-1e30-4976-ad46-ce0b0fe8d0dd_worker_4\", \"run_number\": 1644697035, \"metric\": null, \"status\": \"Completed\", \"run_type\": \"azureml.scriptrun\", \"training_percent\": null, \"start_time\": \"2022-02-12T20:20:38.000247Z\", \"end_time\": \"2022-02-12T20:21:10.92362Z\", \"created_time\": \"2022-02-12T20:17:15.567216Z\", \"created_time_dt\": \"2022-02-12T20:17:15.567216Z\", \"duration\": \"0:03:55\", \"iteration\": null, \"goal\": null, \"run_name\": \"Completed\", \"run_properties\": null}, {\"run_id\": \"AutoML_61dc40bb-1e30-4976-ad46-ce0b0fe8d0dd_20\", \"run_number\": 1644697247, \"metric\": null, \"status\": \"Completed\", \"run_type\": \"azureml.scriptrun\", \"training_percent\": \"100\", \"start_time\": \"2022-02-12T20:21:12.485851Z\", \"end_time\": \"2022-02-12T20:21:16.007943Z\", \"created_time\": \"2022-02-12T20:20:47.427383Z\", \"created_time_dt\": \"2022-02-12T20:20:47.427383Z\", \"duration\": \"0:00:28\", \"iteration\": \"20\", \"goal\": \"accuracy_max\", \"run_name\": \"TruncatedSVDWrapper, RandomForest\", \"run_properties\": \"n_components=0.7026315789473684, random_state=None\", \"primary_metric\": 0.93149746, \"best_metric\": 0.93149746}, {\"run_id\": \"AutoML_61dc40bb-1e30-4976-ad46-ce0b0fe8d0dd_23\", \"run_number\": 1644697268, \"metric\": null, \"status\": \"Completed\", \"run_type\": \"azureml.scriptrun\", \"training_percent\": \"100\", \"start_time\": \"2022-02-12T20:21:37.870866Z\", \"end_time\": \"2022-02-12T20:21:41.394552Z\", \"created_time\": \"2022-02-12T20:21:08.912351Z\", \"created_time_dt\": \"2022-02-12T20:21:08.912351Z\", \"duration\": \"0:00:32\", \"iteration\": \"23\", \"goal\": \"accuracy_max\", \"run_name\": \"StandardScalerWrapper, LogisticRegression\", \"run_properties\": \"\\n    copy=True,\\n    with_mean=False,\\n    with_std=True\\n\", \"primary_metric\": 0.87549544, \"best_metric\": 0.93149746}, {\"run_id\": \"AutoML_61dc40bb-1e30-4976-ad46-ce0b0fe8d0dd_25\", \"run_number\": 1644697280, \"metric\": null, \"status\": \"Completed\", \"run_type\": \"azureml.scriptrun\", \"training_percent\": \"100\", \"start_time\": \"2022-02-12T20:23:00.246236Z\", \"end_time\": \"2022-02-12T20:23:03.714555Z\", \"created_time\": \"2022-02-12T20:21:20.529479Z\", \"created_time_dt\": \"2022-02-12T20:21:20.529479Z\", \"duration\": \"0:01:43\", \"iteration\": \"25\", \"goal\": \"accuracy_max\", \"run_name\": \"SparseNormalizer, XGBoostClassifier\", \"run_properties\": \"copy=True, norm='l2'\", \"primary_metric\": 0.87199869, \"best_metric\": 0.93149746}, {\"run_id\": \"AutoML_61dc40bb-1e30-4976-ad46-ce0b0fe8d0dd_26\", \"run_number\": 1644697297, \"metric\": null, \"status\": \"Completed\", \"run_type\": \"azureml.scriptrun\", \"training_percent\": \"100\", \"start_time\": \"2022-02-12T20:23:24.466277Z\", \"end_time\": \"2022-02-12T20:23:28.035313Z\", \"created_time\": \"2022-02-12T20:21:37.775837Z\", \"created_time_dt\": \"2022-02-12T20:21:37.775837Z\", \"duration\": \"0:01:50\", \"iteration\": \"26\", \"goal\": \"accuracy_max\", \"run_name\": \"SparseNormalizer, XGBoostClassifier\", \"run_properties\": \"copy=True, norm='l1'\", \"primary_metric\": 0.89550195, \"best_metric\": 0.93149746}, {\"run_id\": \"AutoML_61dc40bb-1e30-4976-ad46-ce0b0fe8d0dd_27\", \"run_number\": 1644697303, \"metric\": null, \"status\": \"Completed\", \"run_type\": \"azureml.scriptrun\", \"training_percent\": \"100\", \"start_time\": \"2022-02-12T20:23:33.786119Z\", \"end_time\": \"2022-02-12T20:23:37.336025Z\", \"created_time\": \"2022-02-12T20:21:43.253438Z\", \"created_time_dt\": \"2022-02-12T20:21:43.253438Z\", \"duration\": \"0:01:54\", \"iteration\": \"27\", \"goal\": \"accuracy_max\", \"run_name\": \"SparseNormalizer, XGBoostClassifier\", \"run_properties\": \"copy=True, norm='l2'\", \"primary_metric\": 0.89049694, \"best_metric\": 0.93149746}, {\"run_id\": \"AutoML_61dc40bb-1e30-4976-ad46-ce0b0fe8d0dd_28\", \"run_number\": 1644697321, \"metric\": null, \"status\": \"Completed\", \"run_type\": \"azureml.scriptrun\", \"training_percent\": \"100\", \"start_time\": \"2022-02-12T20:23:45.688555Z\", \"end_time\": \"2022-02-12T20:23:49.197062Z\", \"created_time\": \"2022-02-12T20:22:01.871349Z\", \"created_time_dt\": \"2022-02-12T20:22:01.871349Z\", \"duration\": \"0:01:47\", \"iteration\": \"28\", \"goal\": \"accuracy_max\", \"run_name\": \"SparseNormalizer, XGBoostClassifier\", \"run_properties\": \"copy=True, norm='l2'\", \"primary_metric\": 0.90149895, \"best_metric\": 0.93149746}, {\"run_id\": \"AutoML_61dc40bb-1e30-4976-ad46-ce0b0fe8d0dd_29\", \"run_number\": 1644697385, \"metric\": null, \"status\": \"Completed\", \"run_type\": \"azureml.scriptrun\", \"training_percent\": \"100\", \"start_time\": \"2022-02-12T20:25:05.315302Z\", \"end_time\": \"2022-02-12T20:25:08.863652Z\", \"created_time\": \"2022-02-12T20:23:05.479415Z\", \"created_time_dt\": \"2022-02-12T20:23:05.479415Z\", \"duration\": \"0:02:03\", \"iteration\": \"29\", \"goal\": \"accuracy_max\", \"run_name\": \"TruncatedSVDWrapper, XGBoostClassifier\", \"run_properties\": \"n_components=0.9005263157894737, random_state=None\", \"primary_metric\": 0.95049397, \"best_metric\": 0.95049397}, {\"run_id\": \"AutoML_61dc40bb-1e30-4976-ad46-ce0b0fe8d0dd_30\", \"run_number\": 1644697398, \"metric\": null, \"status\": \"Completed\", \"run_type\": \"azureml.scriptrun\", \"training_percent\": \"100\", \"start_time\": \"2022-02-12T20:25:12.344653Z\", \"end_time\": \"2022-02-12T20:25:15.882286Z\", \"created_time\": \"2022-02-12T20:23:18.328353Z\", \"created_time_dt\": \"2022-02-12T20:23:18.328353Z\", \"duration\": \"0:01:57\", \"iteration\": \"30\", \"goal\": \"accuracy_max\", \"run_name\": \"MaxAbsScaler, RandomForest\", \"run_properties\": \"copy=True\", \"primary_metric\": 0.25000413, \"best_metric\": 0.95049397}, {\"run_id\": \"AutoML_61dc40bb-1e30-4976-ad46-ce0b0fe8d0dd_31\", \"run_number\": 1644697409, \"metric\": null, \"status\": \"Completed\", \"run_type\": \"azureml.scriptrun\", \"training_percent\": \"100\", \"start_time\": \"2022-02-12T20:25:14.872763Z\", \"end_time\": \"2022-02-12T20:25:18.414867Z\", \"created_time\": \"2022-02-12T20:23:29.858514Z\", \"created_time_dt\": \"2022-02-12T20:23:29.858514Z\", \"duration\": \"0:01:48\", \"iteration\": \"31\", \"goal\": \"accuracy_max\", \"run_name\": \"StandardScalerWrapper, XGBoostClassifier\", \"run_properties\": \"\\n    copy=True,\\n    with_mean=False,\\n    with_std=False\\n\", \"primary_metric\": 0.86549368, \"best_metric\": 0.95049397}, {\"run_id\": \"AutoML_61dc40bb-1e30-4976-ad46-ce0b0fe8d0dd_32\", \"run_number\": 1644697419, \"metric\": null, \"status\": \"Completed\", \"run_type\": \"azureml.scriptrun\", \"training_percent\": \"100\", \"start_time\": \"2022-02-12T20:25:35.42534Z\", \"end_time\": \"2022-02-12T20:25:39.096315Z\", \"created_time\": \"2022-02-12T20:23:39.460684Z\", \"created_time_dt\": \"2022-02-12T20:23:39.460684Z\", \"duration\": \"0:01:59\", \"iteration\": \"32\", \"goal\": \"accuracy_max\", \"run_name\": \"StandardScalerWrapper, XGBoostClassifier\", \"run_properties\": \"\\n    copy=True,\\n    with_mean=False,\\n    with_std=False\\n\", \"primary_metric\": 0.83099516, \"best_metric\": 0.95049397}, {\"run_id\": \"AutoML_61dc40bb-1e30-4976-ad46-ce0b0fe8d0dd_33\", \"run_number\": 1644697431, \"metric\": null, \"status\": \"Completed\", \"run_type\": \"azureml.scriptrun\", \"training_percent\": \"100\", \"start_time\": \"2022-02-12T20:25:46.131035Z\", \"end_time\": \"2022-02-12T20:25:49.615128Z\", \"created_time\": \"2022-02-12T20:23:51.522204Z\", \"created_time_dt\": \"2022-02-12T20:23:51.522204Z\", \"duration\": \"0:01:58\", \"iteration\": \"33\", \"goal\": \"accuracy_max\", \"run_name\": \"SparseNormalizer, XGBoostClassifier\", \"run_properties\": \"copy=True, norm='l1'\", \"primary_metric\": 0.87250369, \"best_metric\": 0.95049397}, {\"run_id\": \"AutoML_61dc40bb-1e30-4976-ad46-ce0b0fe8d0dd_36\", \"run_number\": 1644697533, \"metric\": null, \"status\": \"Completed\", \"run_type\": \"azureml.scriptrun\", \"training_percent\": \"100\", \"start_time\": \"2022-02-12T20:27:07.133229Z\", \"end_time\": \"2022-02-12T20:27:10.645547Z\", \"created_time\": \"2022-02-12T20:25:33.137077Z\", \"created_time_dt\": \"2022-02-12T20:25:33.137077Z\", \"duration\": \"0:01:37\", \"iteration\": \"36\", \"goal\": \"accuracy_max\", \"run_name\": \"MaxAbsScaler, ExtremeRandomTrees\", \"run_properties\": \"copy=True\", \"primary_metric\": 0.80349915, \"best_metric\": 0.95049397}, {\"run_id\": \"AutoML_61dc40bb-1e30-4976-ad46-ce0b0fe8d0dd_37\", \"run_number\": 1644697558, \"metric\": null, \"status\": \"Completed\", \"run_type\": \"azureml.scriptrun\", \"training_percent\": \"100\", \"start_time\": \"2022-02-12T20:27:36.357144Z\", \"end_time\": \"2022-02-12T20:27:39.90603Z\", \"created_time\": \"2022-02-12T20:25:58.88781Z\", \"created_time_dt\": \"2022-02-12T20:25:58.88781Z\", \"duration\": \"0:01:41\", \"iteration\": \"37\", \"goal\": \"accuracy_max\", \"run_name\": \"SparseNormalizer, LightGBM\", \"run_properties\": \"copy=True, norm='max'\", \"primary_metric\": 0.75599287, \"best_metric\": 0.95049397}, {\"run_id\": \"AutoML_61dc40bb-1e30-4976-ad46-ce0b0fe8d0dd_38\", \"run_number\": 1644697559, \"metric\": null, \"status\": \"Completed\", \"run_type\": \"azureml.scriptrun\", \"training_percent\": \"100\", \"start_time\": \"2022-02-12T20:27:45.574855Z\", \"end_time\": \"2022-02-12T20:27:49.05836Z\", \"created_time\": \"2022-02-12T20:25:59.828319Z\", \"created_time_dt\": \"2022-02-12T20:25:59.828319Z\", \"duration\": \"0:01:49\", \"iteration\": \"38\", \"goal\": \"accuracy_max\", \"run_name\": \"SparseNormalizer, LightGBM\", \"run_properties\": \"copy=True, norm='l2'\", \"primary_metric\": 0.9054932, \"best_metric\": 0.95049397}, {\"run_id\": \"AutoML_61dc40bb-1e30-4976-ad46-ce0b0fe8d0dd_40\", \"run_number\": 1644697661, \"metric\": null, \"status\": \"Completed\", \"run_type\": \"azureml.scriptrun\", \"training_percent\": \"100\", \"start_time\": \"2022-02-12T20:29:07.854395Z\", \"end_time\": \"2022-02-12T20:29:11.413322Z\", \"created_time\": \"2022-02-12T20:27:41.618619Z\", \"created_time_dt\": \"2022-02-12T20:27:41.618619Z\", \"duration\": \"0:01:29\", \"iteration\": \"40\", \"goal\": \"accuracy_max\", \"run_name\": \"StandardScalerWrapper, LightGBM\", \"run_properties\": \"\\n    copy=True,\\n    with_mean=False,\\n    with_std=False\\n\", \"primary_metric\": 0.59504407, \"best_metric\": 0.95049397}, {\"run_id\": \"AutoML_61dc40bb-1e30-4976-ad46-ce0b0fe8d0dd_39\", \"run_number\": 1644697662, \"metric\": null, \"status\": \"Completed\", \"run_type\": \"azureml.scriptrun\", \"training_percent\": \"100\", \"start_time\": \"2022-02-12T20:29:12.33131Z\", \"end_time\": \"2022-02-12T20:29:15.871383Z\", \"created_time\": \"2022-02-12T20:27:42.611054Z\", \"created_time_dt\": \"2022-02-12T20:27:42.611054Z\", \"duration\": \"0:01:33\", \"iteration\": \"39\", \"goal\": \"accuracy_max\", \"run_name\": \"SparseNormalizer, XGBoostClassifier\", \"run_properties\": \"copy=True, norm='l1'\", \"primary_metric\": 0.76451939, \"best_metric\": 0.95049397}, {\"run_id\": \"AutoML_61dc40bb-1e30-4976-ad46-ce0b0fe8d0dd_42\", \"run_number\": 1644697665, \"metric\": null, \"status\": \"Completed\", \"run_type\": \"azureml.scriptrun\", \"training_percent\": \"100\", \"start_time\": \"2022-02-12T20:29:43.008385Z\", \"end_time\": \"2022-02-12T20:29:46.558337Z\", \"created_time\": \"2022-02-12T20:27:45.816513Z\", \"created_time_dt\": \"2022-02-12T20:27:45.816513Z\", \"duration\": \"0:02:00\", \"iteration\": \"42\", \"goal\": \"accuracy_max\", \"run_name\": \"MaxAbsScaler, RandomForest\", \"run_properties\": \"copy=True\", \"primary_metric\": 0.70051086, \"best_metric\": 0.95049397}, {\"run_id\": \"AutoML_61dc40bb-1e30-4976-ad46-ce0b0fe8d0dd_43\", \"run_number\": 1644697692, \"metric\": null, \"status\": \"Completed\", \"run_type\": \"azureml.scriptrun\", \"training_percent\": \"100\", \"start_time\": \"2022-02-12T20:29:47.527326Z\", \"end_time\": \"2022-02-12T20:29:51.093186Z\", \"created_time\": \"2022-02-12T20:28:12.109908Z\", \"created_time_dt\": \"2022-02-12T20:28:12.109908Z\", \"duration\": \"0:01:38\", \"iteration\": \"43\", \"goal\": \"accuracy_max\", \"run_name\": \"SparseNormalizer, XGBoostClassifier\", \"run_properties\": \"copy=True, norm='l1'\", \"primary_metric\": 0.87800544, \"best_metric\": 0.95049397}, {\"run_id\": \"AutoML_61dc40bb-1e30-4976-ad46-ce0b0fe8d0dd_45\", \"run_number\": 1644697798, \"metric\": null, \"status\": \"Completed\", \"run_type\": \"azureml.scriptrun\", \"training_percent\": \"100\", \"start_time\": \"2022-02-12T20:31:19.094767Z\", \"end_time\": \"2022-02-12T20:31:22.675096Z\", \"created_time\": \"2022-02-12T20:29:58.124455Z\", \"created_time_dt\": \"2022-02-12T20:29:58.124455Z\", \"duration\": \"0:01:24\", \"iteration\": \"45\", \"goal\": \"accuracy_max\", \"run_name\": \"SparseNormalizer, XGBoostClassifier\", \"run_properties\": \"copy=True, norm='l2'\", \"primary_metric\": 0.90849845, \"best_metric\": 0.95049397}, {\"run_id\": \"AutoML_61dc40bb-1e30-4976-ad46-ce0b0fe8d0dd_47\", \"run_number\": 1644697804, \"metric\": null, \"status\": \"Completed\", \"run_type\": \"azureml.scriptrun\", \"training_percent\": \"100\", \"start_time\": \"2022-02-12T20:31:39.524344Z\", \"end_time\": \"2022-02-12T20:31:43.073667Z\", \"created_time\": \"2022-02-12T20:30:04.410779Z\", \"created_time_dt\": \"2022-02-12T20:30:04.410779Z\", \"duration\": \"0:01:38\", \"iteration\": \"47\", \"goal\": \"accuracy_max\", \"run_name\": \"StandardScalerWrapper, XGBoostClassifier\", \"run_properties\": \"\\n    copy=True,\\n    with_mean=False,\\n    with_std=False\\n\", \"primary_metric\": 0.77949013, \"best_metric\": 0.95049397}, {\"run_id\": \"AutoML_61dc40bb-1e30-4976-ad46-ce0b0fe8d0dd_50\", \"run_number\": 1644697913, \"metric\": null, \"status\": \"Completed\", \"run_type\": \"azureml.scriptrun\", \"training_percent\": \"100\", \"start_time\": \"2022-02-12T20:32:44.060155Z\", \"end_time\": \"2022-02-12T20:32:47.545676Z\", \"created_time\": \"2022-02-12T20:31:53.764663Z\", \"created_time_dt\": \"2022-02-12T20:31:53.764663Z\", \"duration\": \"0:00:53\", \"iteration\": \"50\", \"goal\": \"accuracy_max\", \"run_name\": \"StackEnsemble\", \"run_properties\": \"\\n    base_learners=[('29', Pipeline(\\n        memory=None,\\n        steps=[('truncatedsvdwrapper', TruncatedSVDWrapper(\\n            n_components=0.9005263157894737,\\n            random_state=None\\n        \", \"primary_metric\": 0.94649297, \"best_metric\": 0.95049397}], \"children_metrics\": {\"categories\": [0], \"series\": {\"f1_score_micro\": [{\"categories\": [\"0\", \"1\", \"3\", \"5\", \"7\", \"9\", \"13\", \"15\", \"16\", \"17\", \"20\", \"23\", \"25\", \"26\", \"27\", \"28\", \"29\", \"30\", \"31\", \"32\", \"33\", \"36\", \"37\", \"38\", \"39\", \"40\", \"42\", \"43\", \"45\", \"47\", \"50\"], \"mode\": \"markers\", \"name\": \"f1_score_micro\", \"stepped\": false, \"type\": \"scatter\", \"data\": [0.8984996990993993, 0.898997198097648, 0.8880004442223332, 0.8339989164576872, 0.8154984069526798, 0.8204974089531811, 0.6924998461730095, 0.8719941830886359, 0.6774923349136244, 0.7900043972007991, 0.9314974644809727, 0.8754954354654504, 0.8719986853420137, 0.8955019487253372, 0.8904969437203322, 0.9014989502245875, 0.9504939722331027, 0.2500041270655963, 0.865493679586633, 0.830995163079121, 0.872503688095892, 0.8034991513252384, 0.755992874433654, 0.9054931993462727, 0.7645193919556738, 0.5950440695568132, 0.7005108556832695, 0.8780054417235826, 0.9084984534759647, 0.7794901348124736, 0.9464929697313506]}, {\"categories\": [\"0\", \"1\", \"3\", \"5\", \"7\", \"9\", \"13\", \"15\", \"16\", \"17\", \"20\", \"23\", \"25\", \"26\", \"27\", \"28\", \"29\", \"30\", \"31\", \"32\", \"33\", \"36\", \"37\", \"38\", \"39\", \"40\", \"42\", \"43\", \"45\", \"47\", \"50\"], \"mode\": \"lines\", \"name\": \"f1_score_micro_max\", \"stepped\": true, \"type\": \"scatter\", \"data\": [0.8984996990993993, 0.898997198097648, 0.898997198097648, 0.898997198097648, 0.898997198097648, 0.898997198097648, 0.898997198097648, 0.898997198097648, 0.898997198097648, 0.898997198097648, 0.9314974644809727, 0.9314974644809727, 0.9314974644809727, 0.9314974644809727, 0.9314974644809727, 0.9314974644809727, 0.9504939722331027, 0.9504939722331027, 0.9504939722331027, 0.9504939722331027, 0.9504939722331027, 0.9504939722331027, 0.9504939722331027, 0.9504939722331027, 0.9504939722331027, 0.9504939722331027, 0.9504939722331027, 0.9504939722331027, 0.9504939722331027, 0.9504939722331027, 0.9504939722331027]}], \"accuracy\": [{\"categories\": [\"0\", \"1\", \"3\", \"5\", \"7\", \"9\", \"13\", \"15\", \"16\", \"17\", \"20\", \"23\", \"25\", \"26\", \"27\", \"28\", \"29\", \"30\", \"31\", \"32\", \"33\", \"36\", \"37\", \"38\", \"39\", \"40\", \"42\", \"43\", \"45\", \"47\", \"50\"], \"mode\": \"markers\", \"name\": \"accuracy\", \"stepped\": false, \"type\": \"scatter\", \"data\": [0.8984996990993993, 0.898997198097648, 0.8880004442223332, 0.8339989164576872, 0.8154984069526798, 0.820497408953181, 0.6924998461730096, 0.8719941830886359, 0.6774923349136243, 0.7900043972007991, 0.9314974644809727, 0.8754954354654504, 0.8719986853420137, 0.8955019487253372, 0.8904969437203322, 0.9014989502245875, 0.9504939722331027, 0.2500041270655963, 0.865493679586633, 0.8309951630791211, 0.872503688095892, 0.8034991513252384, 0.755992874433654, 0.9054931993462727, 0.7645193919556738, 0.5950440695568132, 0.7005108556832695, 0.8780054417235826, 0.9084984534759647, 0.7794901348124736, 0.9464929697313506]}, {\"categories\": [\"0\", \"1\", \"3\", \"5\", \"7\", \"9\", \"13\", \"15\", \"16\", \"17\", \"20\", \"23\", \"25\", \"26\", \"27\", \"28\", \"29\", \"30\", \"31\", \"32\", \"33\", \"36\", \"37\", \"38\", \"39\", \"40\", \"42\", \"43\", \"45\", \"47\", \"50\"], \"mode\": \"lines\", \"name\": \"accuracy_max\", \"stepped\": true, \"type\": \"scatter\", \"data\": [0.8984996990993993, 0.898997198097648, 0.898997198097648, 0.898997198097648, 0.898997198097648, 0.898997198097648, 0.898997198097648, 0.898997198097648, 0.898997198097648, 0.898997198097648, 0.9314974644809727, 0.9314974644809727, 0.9314974644809727, 0.9314974644809727, 0.9314974644809727, 0.9314974644809727, 0.9504939722331027, 0.9504939722331027, 0.9504939722331027, 0.9504939722331027, 0.9504939722331027, 0.9504939722331027, 0.9504939722331027, 0.9504939722331027, 0.9504939722331027, 0.9504939722331027, 0.9504939722331027, 0.9504939722331027, 0.9504939722331027, 0.9504939722331027, 0.9504939722331027]}], \"precision_score_weighted\": [{\"categories\": [\"0\", \"1\", \"3\", \"5\", \"7\", \"9\", \"13\", \"15\", \"16\", \"17\", \"20\", \"23\", \"25\", \"26\", \"27\", \"28\", \"29\", \"30\", \"31\", \"32\", \"33\", \"36\", \"37\", \"38\", \"39\", \"40\", \"42\", \"43\", \"45\", \"47\", \"50\"], \"mode\": \"markers\", \"name\": \"precision_score_weighted\", \"stepped\": false, \"type\": \"scatter\", \"data\": [0.8984148711439738, 0.8994601916604185, 0.8877212194890957, 0.8361002863706579, 0.814362122398362, 0.8200771520331641, 0.6779723307869757, 0.8723539622630732, 0.6689798217907986, 0.7875933948453833, 0.9327180932515627, 0.8761041701636004, 0.8716327126877793, 0.8966884093263823, 0.890266379751059, 0.9017367669356751, 0.9508397072727357, 0.06259007493117669, 0.8666421800631946, 0.8349328289358812, 0.874314006475855, 0.8018172092533716, 0.7532975139575623, 0.9063540260743022, 0.7669805375612396, 0.573617412338551, 0.708028191728625, 0.8804631220152755, 0.9087961072030798, 0.7800959284840233, 0.9470270652212024]}, {\"categories\": [\"0\", \"1\", \"3\", \"5\", \"7\", \"9\", \"13\", \"15\", \"16\", \"17\", \"20\", \"23\", \"25\", \"26\", \"27\", \"28\", \"29\", \"30\", \"31\", \"32\", \"33\", \"36\", \"37\", \"38\", \"39\", \"40\", \"42\", \"43\", \"45\", \"47\", \"50\"], \"mode\": \"lines\", \"name\": \"precision_score_weighted_max\", \"stepped\": true, \"type\": \"scatter\", \"data\": [0.8984148711439738, 0.8994601916604185, 0.8994601916604185, 0.8994601916604185, 0.8994601916604185, 0.8994601916604185, 0.8994601916604185, 0.8994601916604185, 0.8994601916604185, 0.8994601916604185, 0.9327180932515627, 0.9327180932515627, 0.9327180932515627, 0.9327180932515627, 0.9327180932515627, 0.9327180932515627, 0.9508397072727357, 0.9508397072727357, 0.9508397072727357, 0.9508397072727357, 0.9508397072727357, 0.9508397072727357, 0.9508397072727357, 0.9508397072727357, 0.9508397072727357, 0.9508397072727357, 0.9508397072727357, 0.9508397072727357, 0.9508397072727357, 0.9508397072727357, 0.9508397072727357]}], \"weighted_accuracy\": [{\"categories\": [\"0\", \"1\", \"3\", \"5\", \"7\", \"9\", \"13\", \"15\", \"16\", \"17\", \"20\", \"23\", \"25\", \"26\", \"27\", \"28\", \"29\", \"30\", \"31\", \"32\", \"33\", \"36\", \"37\", \"38\", \"39\", \"40\", \"42\", \"43\", \"45\", \"47\", \"50\"], \"mode\": \"markers\", \"name\": \"weighted_accuracy\", \"stepped\": false, \"type\": \"scatter\", \"data\": [0.898537219636109, 0.8988258246683657, 0.8881110557262004, 0.8336533525585152, 0.8142730590536118, 0.8196540972314095, 0.6915452687468947, 0.8722356267891967, 0.6764984734767562, 0.7882827812351173, 0.9308488096943446, 0.8743098025322831, 0.872013313573056, 0.8950106940896069, 0.8908891595719934, 0.9010874972573607, 0.9504245622655988, 0.24947551859966266, 0.8655150918491782, 0.8300876902042655, 0.8707663894966022, 0.8015971933818636, 0.7552679162950037, 0.9052253726807491, 0.7619891087571385, 0.5925820629262973, 0.6976530651328127, 0.8766124646395941, 0.9083929627580664, 0.7788038036830417, 0.9464771056401395]}, {\"categories\": [\"0\", \"1\", \"3\", \"5\", \"7\", \"9\", \"13\", \"15\", \"16\", \"17\", \"20\", \"23\", \"25\", \"26\", \"27\", \"28\", \"29\", \"30\", \"31\", \"32\", \"33\", \"36\", \"37\", \"38\", \"39\", \"40\", \"42\", \"43\", \"45\", \"47\", \"50\"], \"mode\": \"lines\", \"name\": \"weighted_accuracy_max\", \"stepped\": true, \"type\": \"scatter\", \"data\": [0.898537219636109, 0.8988258246683657, 0.8988258246683657, 0.8988258246683657, 0.8988258246683657, 0.8988258246683657, 0.8988258246683657, 0.8988258246683657, 0.8988258246683657, 0.8988258246683657, 0.9308488096943446, 0.9308488096943446, 0.9308488096943446, 0.9308488096943446, 0.9308488096943446, 0.9308488096943446, 0.9504245622655988, 0.9504245622655988, 0.9504245622655988, 0.9504245622655988, 0.9504245622655988, 0.9504245622655988, 0.9504245622655988, 0.9504245622655988, 0.9504245622655988, 0.9504245622655988, 0.9504245622655988, 0.9504245622655988, 0.9504245622655988, 0.9504245622655988, 0.9504245622655988]}], \"matthews_correlation\": [{\"categories\": [\"0\", \"1\", \"3\", \"5\", \"7\", \"9\", \"13\", \"15\", \"16\", \"17\", \"20\", \"23\", \"25\", \"26\", \"27\", \"28\", \"29\", \"30\", \"31\", \"32\", \"33\", \"36\", \"37\", \"38\", \"39\", \"40\", \"42\", \"43\", \"45\", \"47\", \"50\"], \"mode\": \"markers\", \"name\": \"matthews_correlation\", \"stepped\": false, \"type\": \"scatter\", \"data\": [0.8646307950379836, 0.8654315476944756, 0.8507058210000839, 0.7795687511902063, 0.7542227447746802, 0.7607560593107398, 0.5945730408441757, 0.8294754019061948, 0.5743978673422718, 0.721225552007018, 0.9091696839439433, 0.8343946618848647, 0.8294180815325883, 0.8607429323919268, 0.8540252533962538, 0.8688134987772299, 0.9340425741002377, 0.0, 0.8208628678411696, 0.7751023179025913, 0.8305341792074441, 0.7427974291988085, 0.6762706724387471, 0.8741917264424764, 0.6886596599909426, 0.5109221351101105, 0.6072879388167837, 0.838037684826864, 0.8780204059787442, 0.7074005692315316, 0.9287724553704652]}, {\"categories\": [\"0\", \"1\", \"3\", \"5\", \"7\", \"9\", \"13\", \"15\", \"16\", \"17\", \"20\", \"23\", \"25\", \"26\", \"27\", \"28\", \"29\", \"30\", \"31\", \"32\", \"33\", \"36\", \"37\", \"38\", \"39\", \"40\", \"42\", \"43\", \"45\", \"47\", \"50\"], \"mode\": \"lines\", \"name\": \"matthews_correlation_max\", \"stepped\": true, \"type\": \"scatter\", \"data\": [0.8646307950379836, 0.8654315476944756, 0.8654315476944756, 0.8654315476944756, 0.8654315476944756, 0.8654315476944756, 0.8654315476944756, 0.8654315476944756, 0.8654315476944756, 0.8654315476944756, 0.9091696839439433, 0.9091696839439433, 0.9091696839439433, 0.9091696839439433, 0.9091696839439433, 0.9091696839439433, 0.9340425741002377, 0.9340425741002377, 0.9340425741002377, 0.9340425741002377, 0.9340425741002377, 0.9340425741002377, 0.9340425741002377, 0.9340425741002377, 0.9340425741002377, 0.9340425741002377, 0.9340425741002377, 0.9340425741002377, 0.9340425741002377, 0.9340425741002377, 0.9340425741002377]}], \"f1_score_macro\": [{\"categories\": [\"0\", \"1\", \"3\", \"5\", \"7\", \"9\", \"13\", \"15\", \"16\", \"17\", \"20\", \"23\", \"25\", \"26\", \"27\", \"28\", \"29\", \"30\", \"31\", \"32\", \"33\", \"36\", \"37\", \"38\", \"39\", \"40\", \"42\", \"43\", \"45\", \"47\", \"50\"], \"mode\": \"markers\", \"name\": \"f1_score_macro\", \"stepped\": false, \"type\": \"scatter\", \"data\": [0.8981506112612494, 0.8988158809391092, 0.8873639321073195, 0.8332393197228075, 0.8149238338999728, 0.8201524369852317, 0.6774661323712179, 0.871510826479781, 0.6662351964441534, 0.7873993028963738, 0.931201736959414, 0.8756741871471422, 0.8710688708303995, 0.8958749181369381, 0.8896788690962657, 0.9012995867879906, 0.9506171489002719, 0.0999786800520755, 0.8652241555515657, 0.8321016000990039, 0.8731073869792404, 0.795232629199274, 0.7515854211734716, 0.9052153901261835, 0.7624508103760848, 0.5565529540521107, 0.6936406058304656, 0.8783901229552024, 0.9084119696632738, 0.777145053322056, 0.9464004219375685]}, {\"categories\": [\"0\", \"1\", \"3\", \"5\", \"7\", \"9\", \"13\", \"15\", \"16\", \"17\", \"20\", \"23\", \"25\", \"26\", \"27\", \"28\", \"29\", \"30\", \"31\", \"32\", \"33\", \"36\", \"37\", \"38\", \"39\", \"40\", \"42\", \"43\", \"45\", \"47\", \"50\"], \"mode\": \"lines\", \"name\": \"f1_score_macro_max\", \"stepped\": true, \"type\": \"scatter\", \"data\": [0.8981506112612494, 0.8988158809391092, 0.8988158809391092, 0.8988158809391092, 0.8988158809391092, 0.8988158809391092, 0.8988158809391092, 0.8988158809391092, 0.8988158809391092, 0.8988158809391092, 0.931201736959414, 0.931201736959414, 0.931201736959414, 0.931201736959414, 0.931201736959414, 0.931201736959414, 0.9506171489002719, 0.9506171489002719, 0.9506171489002719, 0.9506171489002719, 0.9506171489002719, 0.9506171489002719, 0.9506171489002719, 0.9506171489002719, 0.9506171489002719, 0.9506171489002719, 0.9506171489002719, 0.9506171489002719, 0.9506171489002719, 0.9506171489002719, 0.9506171489002719]}], \"precision_score_micro\": [{\"categories\": [\"0\", \"1\", \"3\", \"5\", \"7\", \"9\", \"13\", \"15\", \"16\", \"17\", \"20\", \"23\", \"25\", \"26\", \"27\", \"28\", \"29\", \"30\", \"31\", \"32\", \"33\", \"36\", \"37\", \"38\", \"39\", \"40\", \"42\", \"43\", \"45\", \"47\", \"50\"], \"mode\": \"markers\", \"name\": \"precision_score_micro\", \"stepped\": false, \"type\": \"scatter\", \"data\": [0.8984996990993993, 0.898997198097648, 0.8880004442223332, 0.8339989164576872, 0.8154984069526798, 0.820497408953181, 0.6924998461730096, 0.8719941830886359, 0.6774923349136243, 0.7900043972007991, 0.9314974644809727, 0.8754954354654504, 0.8719986853420137, 0.8955019487253372, 0.8904969437203322, 0.9014989502245875, 0.9504939722331027, 0.2500041270655963, 0.865493679586633, 0.8309951630791211, 0.872503688095892, 0.8034991513252384, 0.755992874433654, 0.9054931993462727, 0.7645193919556738, 0.5950440695568132, 0.7005108556832695, 0.8780054417235826, 0.9084984534759647, 0.7794901348124736, 0.9464929697313506]}, {\"categories\": [\"0\", \"1\", \"3\", \"5\", \"7\", \"9\", \"13\", \"15\", \"16\", \"17\", \"20\", \"23\", \"25\", \"26\", \"27\", \"28\", \"29\", \"30\", \"31\", \"32\", \"33\", \"36\", \"37\", \"38\", \"39\", \"40\", \"42\", \"43\", \"45\", \"47\", \"50\"], \"mode\": \"lines\", \"name\": \"precision_score_micro_max\", \"stepped\": true, \"type\": \"scatter\", \"data\": [0.8984996990993993, 0.898997198097648, 0.898997198097648, 0.898997198097648, 0.898997198097648, 0.898997198097648, 0.898997198097648, 0.898997198097648, 0.898997198097648, 0.898997198097648, 0.9314974644809727, 0.9314974644809727, 0.9314974644809727, 0.9314974644809727, 0.9314974644809727, 0.9314974644809727, 0.9504939722331027, 0.9504939722331027, 0.9504939722331027, 0.9504939722331027, 0.9504939722331027, 0.9504939722331027, 0.9504939722331027, 0.9504939722331027, 0.9504939722331027, 0.9504939722331027, 0.9504939722331027, 0.9504939722331027, 0.9504939722331027, 0.9504939722331027, 0.9504939722331027]}], \"recall_score_micro\": [{\"categories\": [\"0\", \"1\", \"3\", \"5\", \"7\", \"9\", \"13\", \"15\", \"16\", \"17\", \"20\", \"23\", \"25\", \"26\", \"27\", \"28\", \"29\", \"30\", \"31\", \"32\", \"33\", \"36\", \"37\", \"38\", \"39\", \"40\", \"42\", \"43\", \"45\", \"47\", \"50\"], \"mode\": \"markers\", \"name\": \"recall_score_micro\", \"stepped\": false, \"type\": \"scatter\", \"data\": [0.8984996990993993, 0.898997198097648, 0.8880004442223332, 0.8339989164576872, 0.8154984069526798, 0.820497408953181, 0.6924998461730096, 0.8719941830886359, 0.6774923349136243, 0.7900043972007991, 0.9314974644809727, 0.8754954354654504, 0.8719986853420137, 0.8955019487253372, 0.8904969437203322, 0.9014989502245875, 0.9504939722331027, 0.2500041270655963, 0.865493679586633, 0.8309951630791211, 0.872503688095892, 0.8034991513252384, 0.755992874433654, 0.9054931993462727, 0.7645193919556738, 0.5950440695568132, 0.7005108556832695, 0.8780054417235826, 0.9084984534759647, 0.7794901348124736, 0.9464929697313506]}, {\"categories\": [\"0\", \"1\", \"3\", \"5\", \"7\", \"9\", \"13\", \"15\", \"16\", \"17\", \"20\", \"23\", \"25\", \"26\", \"27\", \"28\", \"29\", \"30\", \"31\", \"32\", \"33\", \"36\", \"37\", \"38\", \"39\", \"40\", \"42\", \"43\", \"45\", \"47\", \"50\"], \"mode\": \"lines\", \"name\": \"recall_score_micro_max\", \"stepped\": true, \"type\": \"scatter\", \"data\": [0.8984996990993993, 0.898997198097648, 0.898997198097648, 0.898997198097648, 0.898997198097648, 0.898997198097648, 0.898997198097648, 0.898997198097648, 0.898997198097648, 0.898997198097648, 0.9314974644809727, 0.9314974644809727, 0.9314974644809727, 0.9314974644809727, 0.9314974644809727, 0.9314974644809727, 0.9504939722331027, 0.9504939722331027, 0.9504939722331027, 0.9504939722331027, 0.9504939722331027, 0.9504939722331027, 0.9504939722331027, 0.9504939722331027, 0.9504939722331027, 0.9504939722331027, 0.9504939722331027, 0.9504939722331027, 0.9504939722331027, 0.9504939722331027, 0.9504939722331027]}], \"average_precision_score_macro\": [{\"categories\": [\"0\", \"1\", \"3\", \"5\", \"7\", \"9\", \"13\", \"15\", \"16\", \"17\", \"20\", \"23\", \"25\", \"26\", \"27\", \"28\", \"29\", \"30\", \"31\", \"32\", \"33\", \"36\", \"37\", \"38\", \"39\", \"40\", \"42\", \"43\", \"45\", \"47\", \"50\"], \"mode\": \"markers\", \"name\": \"average_precision_score_macro\", \"stepped\": false, \"type\": \"scatter\", \"data\": [0.9580385294285593, 0.9509716089840866, 0.9486409064015713, 0.8772266787474808, 0.8675673221399166, 0.8675199136446138, 0.715592177097364, 0.9424674487586463, 0.678676798207355, 0.8443276573225993, 0.9534829440313813, 0.9326542504949296, 0.9423275799856293, 0.964745740226118, 0.9543108545562465, 0.9684929849655624, 0.985269254038429, 0.25, 0.9205574400002732, 0.8955975986911472, 0.9495147450476139, 0.8715020866484706, 0.8135840340406991, 0.9715571211153642, 0.8294791258059565, 0.7528671772647244, 0.7299251771360602, 0.9514019645751417, 0.97063695215033, 0.8318368522494665, 0.9859243782461675]}, {\"categories\": [\"0\", \"1\", \"3\", \"5\", \"7\", \"9\", \"13\", \"15\", \"16\", \"17\", \"20\", \"23\", \"25\", \"26\", \"27\", \"28\", \"29\", \"30\", \"31\", \"32\", \"33\", \"36\", \"37\", \"38\", \"39\", \"40\", \"42\", \"43\", \"45\", \"47\", \"50\"], \"mode\": \"lines\", \"name\": \"average_precision_score_macro_max\", \"stepped\": true, \"type\": \"scatter\", \"data\": [0.9580385294285593, 0.9580385294285593, 0.9580385294285593, 0.9580385294285593, 0.9580385294285593, 0.9580385294285593, 0.9580385294285593, 0.9580385294285593, 0.9580385294285593, 0.9580385294285593, 0.9580385294285593, 0.9580385294285593, 0.9580385294285593, 0.964745740226118, 0.964745740226118, 0.9684929849655624, 0.985269254038429, 0.985269254038429, 0.985269254038429, 0.985269254038429, 0.985269254038429, 0.985269254038429, 0.985269254038429, 0.985269254038429, 0.985269254038429, 0.985269254038429, 0.985269254038429, 0.985269254038429, 0.985269254038429, 0.985269254038429, 0.9859243782461675]}], \"norm_macro_recall\": [{\"categories\": [\"0\", \"1\", \"3\", \"5\", \"7\", \"9\", \"13\", \"15\", \"16\", \"17\", \"20\", \"23\", \"25\", \"26\", \"27\", \"28\", \"29\", \"30\", \"31\", \"32\", \"33\", \"36\", \"37\", \"38\", \"39\", \"40\", \"42\", \"43\", \"45\", \"47\", \"50\"], \"mode\": \"markers\", \"name\": \"norm_macro_recall\", \"stepped\": false, \"type\": \"scatter\", \"data\": [0.8646512417533497, 0.865576550757503, 0.8506476862372968, 0.7792885524147368, 0.7557255897976881, 0.7618538989362703, 0.5917495662760408, 0.8291976025839668, 0.5717318611242509, 0.7224139368541596, 0.9095581236311241, 0.835702935349214, 0.829420784786037, 0.8613570953054223, 0.8535955604263559, 0.8692742370725357, 0.9341071006678519, 0.0, 0.8207125757505457, 0.7758917905609617, 0.8323002580042774, 0.7407798647246131, 0.6758607977508309, 0.8744213627218659, 0.689581000395535, 0.46336658346342263, 0.6046295051787616, 0.8391761885182768, 0.8782050215563969, 0.707021868712403, 0.928694367408157]}, {\"categories\": [\"0\", \"1\", \"3\", \"5\", \"7\", \"9\", \"13\", \"15\", \"16\", \"17\", \"20\", \"23\", \"25\", \"26\", \"27\", \"28\", \"29\", \"30\", \"31\", \"32\", \"33\", \"36\", \"37\", \"38\", \"39\", \"40\", \"42\", \"43\", \"45\", \"47\", \"50\"], \"mode\": \"lines\", \"name\": \"norm_macro_recall_max\", \"stepped\": true, \"type\": \"scatter\", \"data\": [0.8646512417533497, 0.865576550757503, 0.865576550757503, 0.865576550757503, 0.865576550757503, 0.865576550757503, 0.865576550757503, 0.865576550757503, 0.865576550757503, 0.865576550757503, 0.9095581236311241, 0.9095581236311241, 0.9095581236311241, 0.9095581236311241, 0.9095581236311241, 0.9095581236311241, 0.9341071006678519, 0.9341071006678519, 0.9341071006678519, 0.9341071006678519, 0.9341071006678519, 0.9341071006678519, 0.9341071006678519, 0.9341071006678519, 0.9341071006678519, 0.9341071006678519, 0.9341071006678519, 0.9341071006678519, 0.9341071006678519, 0.9341071006678519, 0.9341071006678519]}], \"recall_score_macro\": [{\"categories\": [\"0\", \"1\", \"3\", \"5\", \"7\", \"9\", \"13\", \"15\", \"16\", \"17\", \"20\", \"23\", \"25\", \"26\", \"27\", \"28\", \"29\", \"30\", \"31\", \"32\", \"33\", \"36\", \"37\", \"38\", \"39\", \"40\", \"42\", \"43\", \"45\", \"47\", \"50\"], \"mode\": \"markers\", \"name\": \"recall_score_macro\", \"stepped\": false, \"type\": \"scatter\", \"data\": [0.8984884313150122, 0.8991824130681273, 0.8879857646779726, 0.8344664143110526, 0.8167941923482663, 0.8213904242022028, 0.6938121747070305, 0.8718982019379751, 0.6787988958431882, 0.7918104526406196, 0.9321685927233431, 0.8767772015119105, 0.8720655885895278, 0.8960178214790667, 0.8901966703197669, 0.9019556778044017, 0.9505803255008889, 0.25, 0.8655344318129092, 0.8319188429207213, 0.8742251935032082, 0.8055848985434598, 0.7568955983131233, 0.9058160220413995, 0.7671857502966514, 0.597524937597567, 0.7034721288840711, 0.8793821413887075, 0.9086537661672978, 0.7802664015343024, 0.9465207755561179]}, {\"categories\": [\"0\", \"1\", \"3\", \"5\", \"7\", \"9\", \"13\", \"15\", \"16\", \"17\", \"20\", \"23\", \"25\", \"26\", \"27\", \"28\", \"29\", \"30\", \"31\", \"32\", \"33\", \"36\", \"37\", \"38\", \"39\", \"40\", \"42\", \"43\", \"45\", \"47\", \"50\"], \"mode\": \"lines\", \"name\": \"recall_score_macro_max\", \"stepped\": true, \"type\": \"scatter\", \"data\": [0.8984884313150122, 0.8991824130681273, 0.8991824130681273, 0.8991824130681273, 0.8991824130681273, 0.8991824130681273, 0.8991824130681273, 0.8991824130681273, 0.8991824130681273, 0.8991824130681273, 0.9321685927233431, 0.9321685927233431, 0.9321685927233431, 0.9321685927233431, 0.9321685927233431, 0.9321685927233431, 0.9505803255008889, 0.9505803255008889, 0.9505803255008889, 0.9505803255008889, 0.9505803255008889, 0.9505803255008889, 0.9505803255008889, 0.9505803255008889, 0.9505803255008889, 0.9505803255008889, 0.9505803255008889, 0.9505803255008889, 0.9505803255008889, 0.9505803255008889, 0.9505803255008889]}], \"balanced_accuracy\": [{\"categories\": [\"0\", \"1\", \"3\", \"5\", \"7\", \"9\", \"13\", \"15\", \"16\", \"17\", \"20\", \"23\", \"25\", \"26\", \"27\", \"28\", \"29\", \"30\", \"31\", \"32\", \"33\", \"36\", \"37\", \"38\", \"39\", \"40\", \"42\", \"43\", \"45\", \"47\", \"50\"], \"mode\": \"markers\", \"name\": \"balanced_accuracy\", \"stepped\": false, \"type\": \"scatter\", \"data\": [0.8984884313150122, 0.8991824130681273, 0.8879857646779726, 0.8344664143110526, 0.8167941923482663, 0.8213904242022028, 0.6938121747070305, 0.8718982019379751, 0.6787988958431882, 0.7918104526406196, 0.9321685927233431, 0.8767772015119105, 0.8720655885895278, 0.8960178214790667, 0.8901966703197669, 0.9019556778044017, 0.9505803255008889, 0.25, 0.8655344318129092, 0.8319188429207213, 0.8742251935032082, 0.8055848985434598, 0.7568955983131233, 0.9058160220413995, 0.7671857502966514, 0.597524937597567, 0.7034721288840711, 0.8793821413887075, 0.9086537661672978, 0.7802664015343024, 0.9465207755561179]}, {\"categories\": [\"0\", \"1\", \"3\", \"5\", \"7\", \"9\", \"13\", \"15\", \"16\", \"17\", \"20\", \"23\", \"25\", \"26\", \"27\", \"28\", \"29\", \"30\", \"31\", \"32\", \"33\", \"36\", \"37\", \"38\", \"39\", \"40\", \"42\", \"43\", \"45\", \"47\", \"50\"], \"mode\": \"lines\", \"name\": \"balanced_accuracy_max\", \"stepped\": true, \"type\": \"scatter\", \"data\": [0.8984884313150122, 0.8991824130681273, 0.8991824130681273, 0.8991824130681273, 0.8991824130681273, 0.8991824130681273, 0.8991824130681273, 0.8991824130681273, 0.8991824130681273, 0.8991824130681273, 0.9321685927233431, 0.9321685927233431, 0.9321685927233431, 0.9321685927233431, 0.9321685927233431, 0.9321685927233431, 0.9505803255008889, 0.9505803255008889, 0.9505803255008889, 0.9505803255008889, 0.9505803255008889, 0.9505803255008889, 0.9505803255008889, 0.9505803255008889, 0.9505803255008889, 0.9505803255008889, 0.9505803255008889, 0.9505803255008889, 0.9505803255008889, 0.9505803255008889, 0.9505803255008889]}], \"f1_score_weighted\": [{\"categories\": [\"0\", \"1\", \"3\", \"5\", \"7\", \"9\", \"13\", \"15\", \"16\", \"17\", \"20\", \"23\", \"25\", \"26\", \"27\", \"28\", \"29\", \"30\", \"31\", \"32\", \"33\", \"36\", \"37\", \"38\", \"39\", \"40\", \"42\", \"43\", \"45\", \"47\", \"50\"], \"mode\": \"markers\", \"name\": \"f1_score_weighted\", \"stepped\": false, \"type\": \"scatter\", \"data\": [0.8982827011514986, 0.8988789731483376, 0.8875115224616836, 0.8334096821972533, 0.8143417410180646, 0.8198480146256264, 0.6772015163175298, 0.8716097921899846, 0.6666184430792501, 0.7864572813051355, 0.9312463138893174, 0.875013657123605, 0.8714258346102602, 0.895815814371714, 0.8900421169115219, 0.9011839662632933, 0.9504623195592693, 0.1000935339228907, 0.8655213216752746, 0.8320686508028103, 0.872527662445196, 0.7950408701441952, 0.7519537093116226, 0.90545187924425, 0.7617546167326034, 0.5533466473482964, 0.692316673153322, 0.8781216658525017, 0.9083996471836384, 0.7771786534299822, 0.9464565338830019]}, {\"categories\": [\"0\", \"1\", \"3\", \"5\", \"7\", \"9\", \"13\", \"15\", \"16\", \"17\", \"20\", \"23\", \"25\", \"26\", \"27\", \"28\", \"29\", \"30\", \"31\", \"32\", \"33\", \"36\", \"37\", \"38\", \"39\", \"40\", \"42\", \"43\", \"45\", \"47\", \"50\"], \"mode\": \"lines\", \"name\": \"f1_score_weighted_max\", \"stepped\": true, \"type\": \"scatter\", \"data\": [0.8982827011514986, 0.8988789731483376, 0.8988789731483376, 0.8988789731483376, 0.8988789731483376, 0.8988789731483376, 0.8988789731483376, 0.8988789731483376, 0.8988789731483376, 0.8988789731483376, 0.9312463138893174, 0.9312463138893174, 0.9312463138893174, 0.9312463138893174, 0.9312463138893174, 0.9312463138893174, 0.9504623195592693, 0.9504623195592693, 0.9504623195592693, 0.9504623195592693, 0.9504623195592693, 0.9504623195592693, 0.9504623195592693, 0.9504623195592693, 0.9504623195592693, 0.9504623195592693, 0.9504623195592693, 0.9504623195592693, 0.9504623195592693, 0.9504623195592693, 0.9504623195592693]}], \"AUC_micro\": [{\"categories\": [\"0\", \"1\", \"3\", \"5\", \"7\", \"9\", \"13\", \"15\", \"16\", \"17\", \"20\", \"23\", \"25\", \"26\", \"27\", \"28\", \"29\", \"30\", \"31\", \"32\", \"33\", \"36\", \"37\", \"38\", \"39\", \"40\", \"42\", \"43\", \"45\", \"47\", \"50\"], \"mode\": \"markers\", \"name\": \"AUC_micro\", \"stepped\": false, \"type\": \"scatter\", \"data\": [0.9876296581909981, 0.9865023306926304, 0.9818743026680875, 0.9596707385059221, 0.9636182317924162, 0.9589698409648709, 0.8999465334545939, 0.9800184035848208, 0.8924384512000337, 0.9448648429991503, 0.9850786608041392, 0.979807526985169, 0.9790572712314115, 0.9885505072078784, 0.9844777402750328, 0.989470901760454, 0.9954165393433532, 0.4923359141250196, 0.9784482316635561, 0.967118303534336, 0.9828859856956838, 0.9551762181828947, 0.9412473762913397, 0.9904107529959827, 0.9397709987827865, 0.8510918982327103, 0.9024478648909026, 0.9839358493549656, 0.990305940478721, 0.9499024859132138, 0.9954491590446279]}, {\"categories\": [\"0\", \"1\", \"3\", \"5\", \"7\", \"9\", \"13\", \"15\", \"16\", \"17\", \"20\", \"23\", \"25\", \"26\", \"27\", \"28\", \"29\", \"30\", \"31\", \"32\", \"33\", \"36\", \"37\", \"38\", \"39\", \"40\", \"42\", \"43\", \"45\", \"47\", \"50\"], \"mode\": \"lines\", \"name\": \"AUC_micro_max\", \"stepped\": true, \"type\": \"scatter\", \"data\": [0.9876296581909981, 0.9876296581909981, 0.9876296581909981, 0.9876296581909981, 0.9876296581909981, 0.9876296581909981, 0.9876296581909981, 0.9876296581909981, 0.9876296581909981, 0.9876296581909981, 0.9876296581909981, 0.9876296581909981, 0.9876296581909981, 0.9885505072078784, 0.9885505072078784, 0.989470901760454, 0.9954165393433532, 0.9954165393433532, 0.9954165393433532, 0.9954165393433532, 0.9954165393433532, 0.9954165393433532, 0.9954165393433532, 0.9954165393433532, 0.9954165393433532, 0.9954165393433532, 0.9954165393433532, 0.9954165393433532, 0.9954165393433532, 0.9954165393433532, 0.9954491590446279]}], \"average_precision_score_micro\": [{\"categories\": [\"0\", \"1\", \"3\", \"5\", \"7\", \"9\", \"13\", \"15\", \"16\", \"17\", \"20\", \"23\", \"25\", \"26\", \"27\", \"28\", \"29\", \"30\", \"31\", \"32\", \"33\", \"36\", \"37\", \"38\", \"39\", \"40\", \"42\", \"43\", \"45\", \"47\", \"50\"], \"mode\": \"markers\", \"name\": \"average_precision_score_micro\", \"stepped\": false, \"type\": \"scatter\", \"data\": [0.9657281290625078, 0.962209805583691, 0.951946826043712, 0.8860916230790599, 0.8976391914398921, 0.89251053903392, 0.7224636180504301, 0.9428905676962223, 0.6947116489816407, 0.8626698468488548, 0.957052988295383, 0.9406019695066329, 0.943850197544518, 0.9682410088675318, 0.9567321658083753, 0.9710093832935076, 0.9872748453476365, 0.24769318445793778, 0.9393041005127891, 0.9091569067581556, 0.953448816144272, 0.8786481660343811, 0.842796173213057, 0.9731249740961624, 0.8551956845266323, 0.6786263677592097, 0.7566570273850899, 0.9558918802784387, 0.9730461345803638, 0.8685430358507117, 0.985606721630672]}, {\"categories\": [\"0\", \"1\", \"3\", \"5\", \"7\", \"9\", \"13\", \"15\", \"16\", \"17\", \"20\", \"23\", \"25\", \"26\", \"27\", \"28\", \"29\", \"30\", \"31\", \"32\", \"33\", \"36\", \"37\", \"38\", \"39\", \"40\", \"42\", \"43\", \"45\", \"47\", \"50\"], \"mode\": \"lines\", \"name\": \"average_precision_score_micro_max\", \"stepped\": true, \"type\": \"scatter\", \"data\": [0.9657281290625078, 0.9657281290625078, 0.9657281290625078, 0.9657281290625078, 0.9657281290625078, 0.9657281290625078, 0.9657281290625078, 0.9657281290625078, 0.9657281290625078, 0.9657281290625078, 0.9657281290625078, 0.9657281290625078, 0.9657281290625078, 0.9682410088675318, 0.9682410088675318, 0.9710093832935076, 0.9872748453476365, 0.9872748453476365, 0.9872748453476365, 0.9872748453476365, 0.9872748453476365, 0.9872748453476365, 0.9872748453476365, 0.9872748453476365, 0.9872748453476365, 0.9872748453476365, 0.9872748453476365, 0.9872748453476365, 0.9872748453476365, 0.9872748453476365, 0.9872748453476365]}], \"AUC_macro\": [{\"categories\": [\"0\", \"1\", \"3\", \"5\", \"7\", \"9\", \"13\", \"15\", \"16\", \"17\", \"20\", \"23\", \"25\", \"26\", \"27\", \"28\", \"29\", \"30\", \"31\", \"32\", \"33\", \"36\", \"37\", \"38\", \"39\", \"40\", \"42\", \"43\", \"45\", \"47\", \"50\"], \"mode\": \"markers\", \"name\": \"AUC_macro\", \"stepped\": false, \"type\": \"scatter\", \"data\": [0.986115889611253, 0.9847573357277847, 0.9803625802635643, 0.9577336884568197, 0.956868065836821, 0.9540366534002328, 0.8742739001659444, 0.9799095195071206, 0.8731987152666685, 0.9393982238028599, 0.9842078586494782, 0.9792758921167298, 0.9778767980702106, 0.9871435722659513, 0.9835567641352071, 0.9884585251400927, 0.9951508039270576, 0.5, 0.9749256624530039, 0.9644614678429413, 0.9814775913399346, 0.9546024820674305, 0.9343725767115817, 0.9896344975841974, 0.9334225281247841, 0.8940004047893465, 0.893287730587872, 0.9821549478759793, 0.9894806402820254, 0.9438522592845127, 0.995402917442313]}, {\"categories\": [\"0\", \"1\", \"3\", \"5\", \"7\", \"9\", \"13\", \"15\", \"16\", \"17\", \"20\", \"23\", \"25\", \"26\", \"27\", \"28\", \"29\", \"30\", \"31\", \"32\", \"33\", \"36\", \"37\", \"38\", \"39\", \"40\", \"42\", \"43\", \"45\", \"47\", \"50\"], \"mode\": \"lines\", \"name\": \"AUC_macro_max\", \"stepped\": true, \"type\": \"scatter\", \"data\": [0.986115889611253, 0.986115889611253, 0.986115889611253, 0.986115889611253, 0.986115889611253, 0.986115889611253, 0.986115889611253, 0.986115889611253, 0.986115889611253, 0.986115889611253, 0.986115889611253, 0.986115889611253, 0.986115889611253, 0.9871435722659513, 0.9871435722659513, 0.9884585251400927, 0.9951508039270576, 0.9951508039270576, 0.9951508039270576, 0.9951508039270576, 0.9951508039270576, 0.9951508039270576, 0.9951508039270576, 0.9951508039270576, 0.9951508039270576, 0.9951508039270576, 0.9951508039270576, 0.9951508039270576, 0.9951508039270576, 0.9951508039270576, 0.995402917442313]}], \"average_precision_score_weighted\": [{\"categories\": [\"0\", \"1\", \"3\", \"5\", \"7\", \"9\", \"13\", \"15\", \"16\", \"17\", \"20\", \"23\", \"25\", \"26\", \"27\", \"28\", \"29\", \"30\", \"31\", \"32\", \"33\", \"36\", \"37\", \"38\", \"39\", \"40\", \"42\", \"43\", \"45\", \"47\", \"50\"], \"mode\": \"markers\", \"name\": \"average_precision_score_weighted\", \"stepped\": false, \"type\": \"scatter\", \"data\": [0.9580596310745837, 0.9510563593221227, 0.9487455934195587, 0.8775067297999746, 0.8671564822326167, 0.8677913654206545, 0.7153267982894055, 0.9426388293913099, 0.6788386662248884, 0.8439937867689343, 0.9534229936645863, 0.9322789478924518, 0.9426557227092284, 0.9648409680425477, 0.9545089476526526, 0.9686244957646039, 0.9852011406972099, 0.25091940840431315, 0.9208711322635255, 0.895974784139844, 0.9494403841591913, 0.8715431141007807, 0.8143466708288477, 0.9716961660218676, 0.8291547149311297, 0.7525484247223374, 0.7286820079895783, 0.9514522185739628, 0.9707638313194282, 0.8321872838624801, 0.9858925263780125]}, {\"categories\": [\"0\", \"1\", \"3\", \"5\", \"7\", \"9\", \"13\", \"15\", \"16\", \"17\", \"20\", \"23\", \"25\", \"26\", \"27\", \"28\", \"29\", \"30\", \"31\", \"32\", \"33\", \"36\", \"37\", \"38\", \"39\", \"40\", \"42\", \"43\", \"45\", \"47\", \"50\"], \"mode\": \"lines\", \"name\": \"average_precision_score_weighted_max\", \"stepped\": true, \"type\": \"scatter\", \"data\": [0.9580596310745837, 0.9580596310745837, 0.9580596310745837, 0.9580596310745837, 0.9580596310745837, 0.9580596310745837, 0.9580596310745837, 0.9580596310745837, 0.9580596310745837, 0.9580596310745837, 0.9580596310745837, 0.9580596310745837, 0.9580596310745837, 0.9648409680425477, 0.9648409680425477, 0.9686244957646039, 0.9852011406972099, 0.9852011406972099, 0.9852011406972099, 0.9852011406972099, 0.9852011406972099, 0.9852011406972099, 0.9852011406972099, 0.9852011406972099, 0.9852011406972099, 0.9852011406972099, 0.9852011406972099, 0.9852011406972099, 0.9852011406972099, 0.9852011406972099, 0.9858925263780125]}], \"recall_score_weighted\": [{\"categories\": [\"0\", \"1\", \"3\", \"5\", \"7\", \"9\", \"13\", \"15\", \"16\", \"17\", \"20\", \"23\", \"25\", \"26\", \"27\", \"28\", \"29\", \"30\", \"31\", \"32\", \"33\", \"36\", \"37\", \"38\", \"39\", \"40\", \"42\", \"43\", \"45\", \"47\", \"50\"], \"mode\": \"markers\", \"name\": \"recall_score_weighted\", \"stepped\": false, \"type\": \"scatter\", \"data\": [0.8984996990993993, 0.898997198097648, 0.8880004442223332, 0.8339989164576872, 0.8154984069526798, 0.820497408953181, 0.6924998461730096, 0.8719941830886359, 0.6774923349136243, 0.7900043972007991, 0.9314974644809727, 0.8754954354654504, 0.8719986853420137, 0.8955019487253372, 0.8904969437203322, 0.9014989502245875, 0.9504939722331027, 0.2500041270655963, 0.865493679586633, 0.8309951630791211, 0.872503688095892, 0.8034991513252384, 0.755992874433654, 0.9054931993462727, 0.7645193919556738, 0.5950440695568132, 0.7005108556832695, 0.8780054417235826, 0.9084984534759647, 0.7794901348124736, 0.9464929697313506]}, {\"categories\": [\"0\", \"1\", \"3\", \"5\", \"7\", \"9\", \"13\", \"15\", \"16\", \"17\", \"20\", \"23\", \"25\", \"26\", \"27\", \"28\", \"29\", \"30\", \"31\", \"32\", \"33\", \"36\", \"37\", \"38\", \"39\", \"40\", \"42\", \"43\", \"45\", \"47\", \"50\"], \"mode\": \"lines\", \"name\": \"recall_score_weighted_max\", \"stepped\": true, \"type\": \"scatter\", \"data\": [0.8984996990993993, 0.898997198097648, 0.898997198097648, 0.898997198097648, 0.898997198097648, 0.898997198097648, 0.898997198097648, 0.898997198097648, 0.898997198097648, 0.898997198097648, 0.9314974644809727, 0.9314974644809727, 0.9314974644809727, 0.9314974644809727, 0.9314974644809727, 0.9314974644809727, 0.9504939722331027, 0.9504939722331027, 0.9504939722331027, 0.9504939722331027, 0.9504939722331027, 0.9504939722331027, 0.9504939722331027, 0.9504939722331027, 0.9504939722331027, 0.9504939722331027, 0.9504939722331027, 0.9504939722331027, 0.9504939722331027, 0.9504939722331027, 0.9504939722331027]}], \"precision_score_macro\": [{\"categories\": [\"0\", \"1\", \"3\", \"5\", \"7\", \"9\", \"13\", \"15\", \"16\", \"17\", \"20\", \"23\", \"25\", \"26\", \"27\", \"28\", \"29\", \"30\", \"31\", \"32\", \"33\", \"36\", \"37\", \"38\", \"39\", \"40\", \"42\", \"43\", \"45\", \"47\", \"50\"], \"mode\": \"markers\", \"name\": \"precision_score_macro\", \"stepped\": false, \"type\": \"scatter\", \"data\": [0.8981579389221043, 0.8991302818257805, 0.8874348018763502, 0.8353713333687339, 0.8142388304696002, 0.8197932384087109, 0.6771448265352844, 0.8722390732891228, 0.667174757365685, 0.7876581520081243, 0.931964514754887, 0.8761508499621753, 0.870831349774836, 0.896274460884678, 0.8898406869159721, 0.9015212532050167, 0.9510772283316019, 0.06250103176639908, 0.8659913828604386, 0.833976433407384, 0.8737016067111845, 0.8001269800944278, 0.7516693982480581, 0.905556313759354, 0.765798127678296, 0.5790099649528485, 0.7078926874895503, 0.8795877400162379, 0.9086748612725731, 0.7791900357473366, 0.9468916369083579]}, {\"categories\": [\"0\", \"1\", \"3\", \"5\", \"7\", \"9\", \"13\", \"15\", \"16\", \"17\", \"20\", \"23\", \"25\", \"26\", \"27\", \"28\", \"29\", \"30\", \"31\", \"32\", \"33\", \"36\", \"37\", \"38\", \"39\", \"40\", \"42\", \"43\", \"45\", \"47\", \"50\"], \"mode\": \"lines\", \"name\": \"precision_score_macro_max\", \"stepped\": true, \"type\": \"scatter\", \"data\": [0.8981579389221043, 0.8991302818257805, 0.8991302818257805, 0.8991302818257805, 0.8991302818257805, 0.8991302818257805, 0.8991302818257805, 0.8991302818257805, 0.8991302818257805, 0.8991302818257805, 0.931964514754887, 0.931964514754887, 0.931964514754887, 0.931964514754887, 0.931964514754887, 0.931964514754887, 0.9510772283316019, 0.9510772283316019, 0.9510772283316019, 0.9510772283316019, 0.9510772283316019, 0.9510772283316019, 0.9510772283316019, 0.9510772283316019, 0.9510772283316019, 0.9510772283316019, 0.9510772283316019, 0.9510772283316019, 0.9510772283316019, 0.9510772283316019, 0.9510772283316019]}], \"log_loss\": [{\"categories\": [\"0\", \"1\", \"3\", \"5\", \"7\", \"9\", \"13\", \"15\", \"16\", \"17\", \"20\", \"23\", \"25\", \"26\", \"27\", \"28\", \"29\", \"30\", \"31\", \"32\", \"33\", \"36\", \"37\", \"38\", \"39\", \"40\", \"42\", \"43\", \"45\", \"47\", \"50\"], \"mode\": \"markers\", \"name\": \"log_loss\", \"stepped\": false, \"type\": \"scatter\", \"data\": [0.2592786024622064, 0.2748704655108045, 0.663110264932867, 1.043624945093182, 0.4932379315185676, 0.959004271792601, 1.0202962078540228, 0.48559031646776446, 0.7867835418160564, 0.8720616594656635, 0.756940674490727, 0.4190914584986041, 0.6624329858719923, 0.24985399593667493, 0.650002521085607, 0.2553886545556195, 0.14529549768862995, 1.38631265080957, 0.40872889707946564, 0.8403634264612009, 0.44927819306758715, 0.9621216838088428, 0.6170637857455578, 0.22455717224034755, 0.9371906139793875, 1.15867005424743, 0.9381896394770018, 0.4485854174098003, 0.22765666692202727, 0.6658690792661955, 0.15379341001823174]}, {\"categories\": [\"0\", \"1\", \"3\", \"5\", \"7\", \"9\", \"13\", \"15\", \"16\", \"17\", \"20\", \"23\", \"25\", \"26\", \"27\", \"28\", \"29\", \"30\", \"31\", \"32\", \"33\", \"36\", \"37\", \"38\", \"39\", \"40\", \"42\", \"43\", \"45\", \"47\", \"50\"], \"mode\": \"lines\", \"name\": \"log_loss_min\", \"stepped\": true, \"type\": \"scatter\", \"data\": [0.2592786024622064, 0.2592786024622064, 0.2592786024622064, 0.2592786024622064, 0.2592786024622064, 0.2592786024622064, 0.2592786024622064, 0.2592786024622064, 0.2592786024622064, 0.2592786024622064, 0.2592786024622064, 0.2592786024622064, 0.2592786024622064, 0.24985399593667493, 0.24985399593667493, 0.24985399593667493, 0.14529549768862995, 0.14529549768862995, 0.14529549768862995, 0.14529549768862995, 0.14529549768862995, 0.14529549768862995, 0.14529549768862995, 0.14529549768862995, 0.14529549768862995, 0.14529549768862995, 0.14529549768862995, 0.14529549768862995, 0.14529549768862995, 0.14529549768862995, 0.14529549768862995]}], \"AUC_weighted\": [{\"categories\": [\"0\", \"1\", \"3\", \"5\", \"7\", \"9\", \"13\", \"15\", \"16\", \"17\", \"20\", \"23\", \"25\", \"26\", \"27\", \"28\", \"29\", \"30\", \"31\", \"32\", \"33\", \"36\", \"37\", \"38\", \"39\", \"40\", \"42\", \"43\", \"45\", \"47\", \"50\"], \"mode\": \"markers\", \"name\": \"AUC_weighted\", \"stepped\": false, \"type\": \"scatter\", \"data\": [0.9860798608233009, 0.9847184696449602, 0.980406334984686, 0.9577837462242446, 0.956672619120294, 0.9539384682364802, 0.8740509393104228, 0.9799243696574691, 0.873166976132889, 0.9391953556896834, 0.9841882741088345, 0.9791124829612413, 0.9779345829259297, 0.9871612508393044, 0.9835734574533834, 0.9884724639328013, 0.9951142850248237, 0.5, 0.9749606324095392, 0.9644880457438325, 0.9814441602669844, 0.9545719717241216, 0.9344575789010227, 0.9896609795210115, 0.9330797920387979, 0.8933662632229685, 0.8930176498516641, 0.9821378372049763, 0.9894783549905584, 0.9438006689272435, 0.9953895885000913]}, {\"categories\": [\"0\", \"1\", \"3\", \"5\", \"7\", \"9\", \"13\", \"15\", \"16\", \"17\", \"20\", \"23\", \"25\", \"26\", \"27\", \"28\", \"29\", \"30\", \"31\", \"32\", \"33\", \"36\", \"37\", \"38\", \"39\", \"40\", \"42\", \"43\", \"45\", \"47\", \"50\"], \"mode\": \"lines\", \"name\": \"AUC_weighted_max\", \"stepped\": true, \"type\": \"scatter\", \"data\": [0.9860798608233009, 0.9860798608233009, 0.9860798608233009, 0.9860798608233009, 0.9860798608233009, 0.9860798608233009, 0.9860798608233009, 0.9860798608233009, 0.9860798608233009, 0.9860798608233009, 0.9860798608233009, 0.9860798608233009, 0.9860798608233009, 0.9871612508393044, 0.9871612508393044, 0.9884724639328013, 0.9951142850248237, 0.9951142850248237, 0.9951142850248237, 0.9951142850248237, 0.9951142850248237, 0.9951142850248237, 0.9951142850248237, 0.9951142850248237, 0.9951142850248237, 0.9951142850248237, 0.9951142850248237, 0.9951142850248237, 0.9951142850248237, 0.9951142850248237, 0.9953895885000913]}]}, \"metricName\": null, \"primaryMetricName\": \"accuracy\", \"showLegend\": false}, \"run_metrics\": [{\"name\": \"experiment_status\", \"run_id\": \"AutoML_61dc40bb-1e30-4976-ad46-ce0b0fe8d0dd\", \"categories\": [0, 1, 2, 3, 4, 5, 6, 7, 8, 9, 10, 11, 12, 13], \"series\": [{\"data\": [\"DatasetEvaluation\", \"FeaturesGeneration\", \"DatasetFeaturization\", \"DatasetFeaturizationCompleted\", \"DatasetCrossValidationSplit\", \"ModelSelection\", \"BestRunExplainModel\", \"ModelExplanationDataSetSetup\", \"PickSurrogateModel\", \"EngineeredFeatureExplanations\", \"EngineeredFeatureExplanations\", \"RawFeaturesExplanations\", \"RawFeaturesExplanations\", \"BestRunExplainModel\"]}]}, {\"name\": \"experiment_status_description\", \"run_id\": \"AutoML_61dc40bb-1e30-4976-ad46-ce0b0fe8d0dd\", \"categories\": [0, 1, 2, 3, 4, 5, 6, 7, 8, 9, 10, 11, 12, 13], \"series\": [{\"data\": [\"Gathering dataset statistics.\", \"Generating features for the dataset.\", \"Beginning to fit featurizers and featurize the dataset.\", \"Completed fit featurizers and featurizing the dataset.\", \"Generating individually featurized CV splits.\", \"Beginning model selection.\", \"Best run model explanations started\", \"Model explanations data setup completed\", \"Choosing LightGBM as the surrogate model for explanations\", \"Computation of engineered features started\", \"Computation of engineered features completed\", \"Computation of raw features started\", \"Computation of raw features completed\", \"Best run model explanations completed\"]}]}, {\"name\": \"f1_score_weighted\", \"run_id\": \"AutoML_61dc40bb-1e30-4976-ad46-ce0b0fe8d0dd\", \"categories\": [0], \"series\": [{\"data\": [0.9504623195592693]}]}, {\"name\": \"weighted_accuracy\", \"run_id\": \"AutoML_61dc40bb-1e30-4976-ad46-ce0b0fe8d0dd\", \"categories\": [0], \"series\": [{\"data\": [0.9504245622655988]}]}, {\"name\": \"precision_score_macro\", \"run_id\": \"AutoML_61dc40bb-1e30-4976-ad46-ce0b0fe8d0dd\", \"categories\": [0], \"series\": [{\"data\": [0.9510772283316019]}]}, {\"name\": \"accuracy\", \"run_id\": \"AutoML_61dc40bb-1e30-4976-ad46-ce0b0fe8d0dd\", \"categories\": [0], \"series\": [{\"data\": [0.9504939722331027]}]}, {\"name\": \"average_precision_score_weighted\", \"run_id\": \"AutoML_61dc40bb-1e30-4976-ad46-ce0b0fe8d0dd\", \"categories\": [0], \"series\": [{\"data\": [0.9852011406972099]}]}, {\"name\": \"balanced_accuracy\", \"run_id\": \"AutoML_61dc40bb-1e30-4976-ad46-ce0b0fe8d0dd\", \"categories\": [0], \"series\": [{\"data\": [0.9505803255008889]}]}, {\"name\": \"norm_macro_recall\", \"run_id\": \"AutoML_61dc40bb-1e30-4976-ad46-ce0b0fe8d0dd\", \"categories\": [0], \"series\": [{\"data\": [0.9341071006678519]}]}, {\"name\": \"average_precision_score_macro\", \"run_id\": \"AutoML_61dc40bb-1e30-4976-ad46-ce0b0fe8d0dd\", \"categories\": [0], \"series\": [{\"data\": [0.985269254038429]}]}, {\"name\": \"f1_score_macro\", \"run_id\": \"AutoML_61dc40bb-1e30-4976-ad46-ce0b0fe8d0dd\", \"categories\": [0], \"series\": [{\"data\": [0.9506171489002719]}]}, {\"name\": \"log_loss\", \"run_id\": \"AutoML_61dc40bb-1e30-4976-ad46-ce0b0fe8d0dd\", \"categories\": [0], \"series\": [{\"data\": [0.14529549768862995]}]}, {\"name\": \"recall_score_macro\", \"run_id\": \"AutoML_61dc40bb-1e30-4976-ad46-ce0b0fe8d0dd\", \"categories\": [0], \"series\": [{\"data\": [0.9505803255008889]}]}, {\"name\": \"AUC_macro\", \"run_id\": \"AutoML_61dc40bb-1e30-4976-ad46-ce0b0fe8d0dd\", \"categories\": [0], \"series\": [{\"data\": [0.9951508039270576]}]}, {\"name\": \"recall_score_micro\", \"run_id\": \"AutoML_61dc40bb-1e30-4976-ad46-ce0b0fe8d0dd\", \"categories\": [0], \"series\": [{\"data\": [0.9504939722331027]}]}, {\"name\": \"matthews_correlation\", \"run_id\": \"AutoML_61dc40bb-1e30-4976-ad46-ce0b0fe8d0dd\", \"categories\": [0], \"series\": [{\"data\": [0.9340425741002377]}]}, {\"name\": \"AUC_weighted\", \"run_id\": \"AutoML_61dc40bb-1e30-4976-ad46-ce0b0fe8d0dd\", \"categories\": [0], \"series\": [{\"data\": [0.9951142850248237]}]}, {\"name\": \"average_precision_score_micro\", \"run_id\": \"AutoML_61dc40bb-1e30-4976-ad46-ce0b0fe8d0dd\", \"categories\": [0], \"series\": [{\"data\": [0.9872748453476365]}]}, {\"name\": \"recall_score_weighted\", \"run_id\": \"AutoML_61dc40bb-1e30-4976-ad46-ce0b0fe8d0dd\", \"categories\": [0], \"series\": [{\"data\": [0.9504939722331027]}]}, {\"name\": \"precision_score_weighted\", \"run_id\": \"AutoML_61dc40bb-1e30-4976-ad46-ce0b0fe8d0dd\", \"categories\": [0], \"series\": [{\"data\": [0.9508397072727357]}]}, {\"name\": \"precision_score_micro\", \"run_id\": \"AutoML_61dc40bb-1e30-4976-ad46-ce0b0fe8d0dd\", \"categories\": [0], \"series\": [{\"data\": [0.9504939722331027]}]}, {\"name\": \"f1_score_micro\", \"run_id\": \"AutoML_61dc40bb-1e30-4976-ad46-ce0b0fe8d0dd\", \"categories\": [0], \"series\": [{\"data\": [0.9504939722331027]}]}, {\"name\": \"AUC_micro\", \"run_id\": \"AutoML_61dc40bb-1e30-4976-ad46-ce0b0fe8d0dd\", \"categories\": [0], \"series\": [{\"data\": [0.9954165393433532]}]}], \"run_logs\": \"\\nRun is completed.\", \"graph\": {}, \"widget_settings\": {\"childWidgetDisplay\": \"popup\", \"send_telemetry\": false, \"log_level\": \"INFO\", \"sdk_version\": \"1.37.0\"}, \"loading\": false}"
          },
          "metadata": {}
        }
      ],
      "execution_count": 7,
      "metadata": {
        "gather": {
          "logged": 1644698029859
        },
        "jupyter": {
          "outputs_hidden": false,
          "source_hidden": false
        },
        "nteract": {
          "transient": {
            "deleting": false
          }
        }
      }
    },
    {
      "cell_type": "markdown",
      "source": [
        "## Best Model\n",
        "\n",
        "TODO: In the cell below, get the best model from the automl experiments and display all the properties of the model.\n",
        "\n"
      ],
      "metadata": {}
    },
    {
      "cell_type": "code",
      "source": [
        "best_run, best_model = remote_run.get_output()\n",
        "print(best_run)\n",
        "print(best_model)"
      ],
      "outputs": [
        {
          "output_type": "stream",
          "name": "stderr",
          "text": "WARNING:root:The version of the SDK does not match the version the model was trained on.\nWARNING:root:The consistency in the result may not be guaranteed.\nWARNING:root:Package:azureml-automl-core, training version:1.38.0, current version:1.37.0\nPackage:azureml-automl-runtime, training version:1.38.0, current version:1.37.0\nPackage:azureml-core, training version:1.38.0, current version:1.37.0\nPackage:azureml-dataprep, training version:2.26.0, current version:2.25.0\nPackage:azureml-dataprep-rslex, training version:2.2.0, current version:2.1.0\nPackage:azureml-dataset-runtime, training version:1.38.0, current version:1.37.0\nPackage:azureml-defaults, training version:1.38.0, current version:1.37.0\nPackage:azureml-interpret, training version:1.38.0, current version:1.37.0\nPackage:azureml-mlflow, training version:1.38.0, current version:1.37.0\nPackage:azureml-pipeline-core, training version:1.38.0, current version:1.37.0\nPackage:azureml-responsibleai, training version:1.38.0, current version:1.37.0\nPackage:azureml-telemetry, training version:1.38.0, current version:1.37.0\nPackage:azureml-train-automl-client, training version:1.38.0, current version:1.37.0\nPackage:azureml-train-automl-runtime, training version:1.38.0, current version:1.37.0\nPackage:azureml-train-core, training version:1.38.0, current version:1.37.0\nPackage:azureml-train-restclients-hyperdrive, training version:1.38.0, current version:1.37.0\nWARNING:root:Please ensure the version of your local conda dependencies match the version on which your model was trained in order to properly retrieve your model.\n"
        },
        {
          "output_type": "stream",
          "name": "stdout",
          "text": "Run(Experiment: tguner-automl,\nId: AutoML_61dc40bb-1e30-4976-ad46-ce0b0fe8d0dd_29,\nType: azureml.scriptrun,\nStatus: Completed)\nPipeline(memory=None,\n         steps=[('datatransformer',\n                 DataTransformer(enable_dnn=False, enable_feature_sweeping=True, feature_sweeping_config={}, feature_sweeping_timeout=86400, featurization_config=None, force_text_dnn=False, is_cross_validation=True, is_onnx_compatible=False, observer=None, task='classification', working_dir='/mnt/batch/tasks/shared/LS_root/mount...\n                ('XGBoostClassifier',\n                 XGBoostClassifier(booster='gbtree', colsample_bytree=0.6, eta=0.5, gamma=0, max_depth=6, max_leaves=63, n_estimators=100, n_jobs=1, objective='reg:logistic', problem_info=ProblemInfo(\n    gpu_training_param_dict={'processing_unit_type': 'cpu'}\n), random_state=0, reg_alpha=0, reg_lambda=0.4166666666666667, subsample=0.6, tree_method='auto'))],\n         verbose=False)\n"
        }
      ],
      "execution_count": 8,
      "metadata": {
        "gather": {
          "logged": 1644698262563
        },
        "jupyter": {
          "outputs_hidden": false,
          "source_hidden": false
        },
        "nteract": {
          "transient": {
            "deleting": false
          }
        }
      }
    },
    {
      "cell_type": "code",
      "source": [
        "best_run.get_file_names()"
      ],
      "outputs": [
        {
          "output_type": "execute_result",
          "execution_count": 9,
          "data": {
            "text/plain": "['accuracy_table',\n 'automl_driver.py',\n 'confusion_matrix',\n 'explanation/01fbc0ca/classes.interpret.json',\n 'explanation/01fbc0ca/expected_values.interpret.json',\n 'explanation/01fbc0ca/features.interpret.json',\n 'explanation/01fbc0ca/global_names/0.interpret.json',\n 'explanation/01fbc0ca/global_rank/0.interpret.json',\n 'explanation/01fbc0ca/global_values/0.interpret.json',\n 'explanation/01fbc0ca/local_importance_values.interpret.json',\n 'explanation/01fbc0ca/per_class_names/0.interpret.json',\n 'explanation/01fbc0ca/per_class_rank/0.interpret.json',\n 'explanation/01fbc0ca/per_class_values/0.interpret.json',\n 'explanation/01fbc0ca/rich_metadata.interpret.json',\n 'explanation/01fbc0ca/true_ys_viz.interpret.json',\n 'explanation/01fbc0ca/visualization_dict.interpret.json',\n 'explanation/01fbc0ca/ys_pred_proba_viz.interpret.json',\n 'explanation/01fbc0ca/ys_pred_viz.interpret.json',\n 'explanation/eab44b86/classes.interpret.json',\n 'explanation/eab44b86/eval_data_viz.interpret.json',\n 'explanation/eab44b86/expected_values.interpret.json',\n 'explanation/eab44b86/features.interpret.json',\n 'explanation/eab44b86/global_names/0.interpret.json',\n 'explanation/eab44b86/global_rank/0.interpret.json',\n 'explanation/eab44b86/global_values/0.interpret.json',\n 'explanation/eab44b86/local_importance_values.interpret.json',\n 'explanation/eab44b86/per_class_names/0.interpret.json',\n 'explanation/eab44b86/per_class_rank/0.interpret.json',\n 'explanation/eab44b86/per_class_values/0.interpret.json',\n 'explanation/eab44b86/rich_metadata.interpret.json',\n 'explanation/eab44b86/true_ys_viz.interpret.json',\n 'explanation/eab44b86/visualization_dict.interpret.json',\n 'explanation/eab44b86/ys_pred_proba_viz.interpret.json',\n 'explanation/eab44b86/ys_pred_viz.interpret.json',\n 'logs/azureml/azureml_automl.log',\n 'outputs/conda_env_v_1_0_0.yml',\n 'outputs/engineered_feature_names.json',\n 'outputs/env_dependencies.json',\n 'outputs/featurization_summary.json',\n 'outputs/internal_cross_validated_models.pkl',\n 'outputs/model.pkl',\n 'outputs/pipeline_graph.json',\n 'outputs/scoring_file_v_1_0_0.py',\n 'outputs/scoring_file_v_2_0_0.py',\n 'system_logs/cs_capability/cs-capability.log',\n 'system_logs/hosttools_capability/hosttools-capability.log',\n 'system_logs/lifecycler/execution-wrapper.log',\n 'system_logs/lifecycler/lifecycler.log',\n 'system_logs/lifecycler/vm-bootstrapper.log',\n 'user_logs/std_log.txt']"
          },
          "metadata": {}
        }
      ],
      "execution_count": 9,
      "metadata": {
        "jupyter": {
          "source_hidden": false,
          "outputs_hidden": false
        },
        "nteract": {
          "transient": {
            "deleting": false
          }
        },
        "gather": {
          "logged": 1644698328312
        }
      }
    },
    {
      "cell_type": "code",
      "source": [
        "best_run.download_file('outputs/conda_env_v_1_0_0.yml', './conda_env.yml')"
      ],
      "outputs": [],
      "execution_count": 65,
      "metadata": {
        "jupyter": {
          "source_hidden": false,
          "outputs_hidden": false
        },
        "nteract": {
          "transient": {
            "deleting": false
          }
        },
        "gather": {
          "logged": 1644604460744
        }
      }
    },
    {
      "cell_type": "markdown",
      "source": [
        "## Model Deployment\n",
        "\n",
        "Remember you have to deploy only one of the two models you trained but you still need to register both the models. Perform the steps in the rest of this notebook only if you wish to deploy this model.\n",
        "\n",
        "\n",
        "TODO: In the cell below, register the model, create an inference config and deploy the model as a web service."
      ],
      "metadata": {}
    },
    {
      "cell_type": "code",
      "source": [
        "import joblib\r\n",
        "model_name = best_run.properties['model_name']\r\n",
        "joblib.dump(best_model, 'automl_model.pkl')\r\n",
        "model = remote_run.register_model(model_name=model_name, description='AutoML model', tags=None)"
      ],
      "outputs": [],
      "execution_count": 10,
      "metadata": {
        "jupyter": {
          "source_hidden": false,
          "outputs_hidden": false
        },
        "nteract": {
          "transient": {
            "deleting": false
          }
        },
        "gather": {
          "logged": 1644698339678
        }
      }
    },
    {
      "cell_type": "code",
      "source": [
        "\n",
        "from azureml.core.webservice import AciWebservice\n",
        "from azureml.core.model import InferenceConfig\n",
        "from azureml.core.model import Model\n",
        "from azureml.core import Environment\n",
        "\n",
        "\n",
        "inference_config = InferenceConfig(entry_script='./score.py')\n",
        "\n",
        "aciconfig = AciWebservice.deploy_configuration(cpu_cores=2, \n",
        "                                               memory_gb=2, \n",
        "                                               )\n",
        "\n",
        "service = Model.deploy(workspace=ws, \n",
        "                           name='tguner-deploy', \n",
        "                           models=[model], \n",
        "                           inference_config=inference_config, \n",
        "                           deployment_config=aciconfig,\n",
        "                           overwrite=True)\n",
        "\n",
        "service.wait_for_deployment(True)\n",
        "print(service.state)\n"
      ],
      "outputs": [
        {
          "output_type": "stream",
          "name": "stdout",
          "text": "Tips: You can try get_logs(): https://aka.ms/debugimage#dockerlog or local deployment: https://aka.ms/debugimage#debug-locally to debug if deployment takes longer than 10 minutes.\nRunning\n2022-02-12 21:20:40+00:00 Creating Container Registry if not exists.\n2022-02-12 21:20:41+00:00 Use the existing image.\n2022-02-12 21:20:41+00:00 Generating deployment configuration.\n2022-02-12 21:20:42+00:00 Submitting deployment to compute.\n2022-02-12 21:20:45+00:00 Checking the status of deployment tguner-deploy..\n2022-02-12 21:23:10+00:00 Checking the status of inference endpoint tguner-deploy.\nSucceeded\nACI service creation operation finished, operation \"Succeeded\"\nHealthy\n"
        }
      ],
      "execution_count": 14,
      "metadata": {
        "gather": {
          "logged": 1644700998350
        },
        "jupyter": {
          "outputs_hidden": false,
          "source_hidden": false
        },
        "nteract": {
          "transient": {
            "deleting": false
          }
        }
      }
    },
    {
      "cell_type": "markdown",
      "source": [
        "TODO: In the cell below, send a request to the web service you deployed to test it."
      ],
      "metadata": {
        "collapsed": true,
        "gather": {
          "logged": 1598431657736
        },
        "jupyter": {
          "outputs_hidden": false,
          "source_hidden": false
        },
        "nteract": {
          "transient": {
            "deleting": false
          }
        }
      }
    },
    {
      "cell_type": "code",
      "source": [
        "import requests\n",
        "import json\n",
        "\n",
        "data = df[:5].drop(['price_range'], axis=1).to_json(orient='records')\n",
        "service.run(data)\n"
      ],
      "outputs": [
        {
          "output_type": "execute_result",
          "execution_count": 15,
          "data": {
            "text/plain": "'{\"Prediction\": [1, 2, 2, 2, 1]}'"
          },
          "metadata": {}
        }
      ],
      "execution_count": 15,
      "metadata": {
        "gather": {
          "logged": 1644701014291
        },
        "jupyter": {
          "outputs_hidden": false,
          "source_hidden": false
        },
        "nteract": {
          "transient": {
            "deleting": false
          }
        }
      }
    },
    {
      "cell_type": "markdown",
      "source": [
        "TODO: In the cell below, print the logs of the web service and delete the service"
      ],
      "metadata": {
        "collapsed": true,
        "gather": {
          "logged": 1598432765711
        },
        "jupyter": {
          "outputs_hidden": false,
          "source_hidden": false
        },
        "nteract": {
          "transient": {
            "deleting": false
          }
        }
      }
    },
    {
      "cell_type": "code",
      "source": [
        "print(service.get_logs())\n",
        "service.delete()"
      ],
      "outputs": [
        {
          "output_type": "stream",
          "name": "stdout",
          "text": "2022-02-12T21:22:56,783273700+00:00 - gunicorn/run \n2022-02-12T21:22:56,783362700+00:00 - rsyslog/run \nDynamic Python package installation is disabled.\nStarting HTTP server\n2022-02-12T21:22:56,790036800+00:00 - iot-server/run \n2022-02-12T21:22:56,812483400+00:00 - nginx/run \nrsyslogd: /azureml-envs/azureml_6797cf9b513e59b405ce80f3e9222a7d/lib/libuuid.so.1: no version information available (required by rsyslogd)\nEdgeHubConnectionString and IOTEDGE_IOTHUBHOSTNAME are not set. Exiting...\n2022-02-12T21:22:57,018451800+00:00 - iot-server/finish 1 0\n2022-02-12T21:22:57,019912300+00:00 - Exit code 1 is normal. Not restarting iot-server.\nStarting gunicorn 20.1.0\nListening at: http://127.0.0.1:31311 (78)\nUsing worker: sync\nworker timeout is set to 300\nBooting worker with pid: 107\nSPARK_HOME not set. Skipping PySpark Initialization.\nGenerating new fontManager, this may take some time...\nInitializing logger\n2022-02-12 21:22:59,661 | root | INFO | Starting up app insights client\nlogging socket was found. logging is available.\nlogging socket was found. logging is available.\n2022-02-12 21:22:59,662 | root | INFO | Starting up request id generator\n2022-02-12 21:22:59,662 | root | INFO | Starting up app insight hooks\n2022-02-12 21:22:59,664 | root | INFO | Invoking user's init function\n2022-02-12 21:23:04,049 | root | INFO | Users's init has completed successfully\n2022-02-12 21:23:04,057 | root | INFO | Skipping middleware: dbg_model_info as it's not enabled.\n2022-02-12 21:23:04,057 | root | INFO | Skipping middleware: dbg_resource_usage as it's not enabled.\n2022-02-12 21:23:04,059 | root | INFO | Scoring timeout is found from os.environ: 60000 ms\n2022-02-12 21:23:09,531 | root | INFO | Swagger file not present\n2022-02-12 21:23:09,531 | root | INFO | 404\n127.0.0.1 - - [12/Feb/2022:21:23:09 +0000] \"GET /swagger.json HTTP/1.0\" 404 19 \"-\" \"Go-http-client/1.1\"\n2022-02-12 21:23:17,523 | root | INFO | Swagger file not present\n2022-02-12 21:23:17,523 | root | INFO | 404\n127.0.0.1 - - [12/Feb/2022:21:23:17 +0000] \"GET /swagger.json HTTP/1.0\" 404 19 \"-\" \"Go-http-client/1.1\"\n2022-02-12 21:23:33,398 | root | INFO | Scoring Timer is set to 60.0 seconds\n2022-02-12 21:23:33,500 | root | INFO | 200\n127.0.0.1 - - [12/Feb/2022:21:23:33 +0000] \"POST /score HTTP/1.0\" 200 35 \"-\" \"python-requests/2.26.0\"\n\n"
        }
      ],
      "execution_count": 16,
      "metadata": {
        "jupyter": {
          "outputs_hidden": false,
          "source_hidden": false
        },
        "nteract": {
          "transient": {
            "deleting": false
          }
        },
        "gather": {
          "logged": 1644701030526
        }
      }
    },
    {
      "cell_type": "markdown",
      "source": [
        "**Submission Checklist**\n",
        "- I have registered the model.\n",
        "- I have deployed the model with the best accuracy as a webservice.\n",
        "- I have tested the webservice by sending a request to the model endpoint.\n",
        "- I have deleted the webservice and shutdown all the computes that I have used.\n",
        "- I have taken a screenshot showing the model endpoint as active.\n",
        "- The project includes a file containing the environment details.\n"
      ],
      "metadata": {}
    },
    {
      "cell_type": "markdown",
      "source": [],
      "metadata": {}
    }
  ],
  "metadata": {
    "kernel_info": {
      "name": "python3"
    },
    "kernelspec": {
      "name": "python3",
      "language": "python",
      "display_name": "Python 3"
    },
    "language_info": {
      "name": "python",
      "version": "3.6.9",
      "mimetype": "text/x-python",
      "codemirror_mode": {
        "name": "ipython",
        "version": 3
      },
      "pygments_lexer": "ipython3",
      "nbconvert_exporter": "python",
      "file_extension": ".py"
    },
    "nteract": {
      "version": "nteract-front-end@1.0.0"
    },
    "microsoft": {
      "host": {
        "AzureML": {
          "notebookHasBeenCompleted": true
        }
      }
    }
  },
  "nbformat": 4,
  "nbformat_minor": 2
}